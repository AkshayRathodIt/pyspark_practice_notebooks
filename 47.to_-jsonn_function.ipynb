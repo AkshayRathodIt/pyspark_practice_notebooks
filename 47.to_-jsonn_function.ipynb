{
 "cells": [
  {
   "cell_type": "code",
   "execution_count": 1,
   "metadata": {},
   "outputs": [
    {
     "name": "stderr",
     "output_type": "stream",
     "text": [
      "24/06/29 14:22:29 WARN Utils: Your hostname, akshay-vm resolves to a loopback address: 127.0.1.1; using 10.0.2.15 instead (on interface enp0s3)\n",
      "24/06/29 14:22:29 WARN Utils: Set SPARK_LOCAL_IP if you need to bind to another address\n",
      "Setting default log level to \"WARN\".\n",
      "To adjust logging level use sc.setLogLevel(newLevel). For SparkR, use setLogLevel(newLevel).\n",
      "24/06/29 14:22:31 WARN NativeCodeLoader: Unable to load native-hadoop library for your platform... using builtin-java classes where applicable\n",
      "24/06/29 14:22:33 WARN Utils: Service 'SparkUI' could not bind on port 4040. Attempting port 4041.\n"
     ]
    }
   ],
   "source": [
    "import findspark\n",
    "findspark.init('/home/akshay/spark-3.5.1-bin-hadoop3')\n",
    "from pyspark.sql import SparkSession\n",
    "spark = SparkSession.builder.appName(\"spark_tutorials_1\").getOrCreate()"
   ]
  },
  {
   "cell_type": "code",
   "execution_count": 2,
   "metadata": {},
   "outputs": [],
   "source": [
    "data = [(\"tony\",{'hair':'black','eyes':'blue'})]"
   ]
  },
  {
   "cell_type": "code",
   "execution_count": 8,
   "metadata": {},
   "outputs": [],
   "source": [
    "from pyspark.sql.functions import to_json\n",
    "from pyspark.sql.types import StructType, StringType, StructField, MapType"
   ]
  },
  {
   "cell_type": "code",
   "execution_count": 4,
   "metadata": {},
   "outputs": [],
   "source": [
    "Struct_type = StructType([StructField(\"hair\",StringType()), StructField(\"eyes\", StringType())])"
   ]
  },
  {
   "cell_type": "code",
   "execution_count": 5,
   "metadata": {},
   "outputs": [],
   "source": [
    "schema = StructType([StructField(\"name\",StringType()),StructField(\"props\",Struct_type)])"
   ]
  },
  {
   "cell_type": "code",
   "execution_count": 7,
   "metadata": {},
   "outputs": [
    {
     "name": "stdout",
     "output_type": "stream",
     "text": [
      "+----+-------------+\n",
      "|name|        props|\n",
      "+----+-------------+\n",
      "|tony|{black, blue}|\n",
      "+----+-------------+\n",
      "\n",
      "root\n",
      " |-- name: string (nullable = true)\n",
      " |-- props: struct (nullable = true)\n",
      " |    |-- hair: string (nullable = true)\n",
      " |    |-- eyes: string (nullable = true)\n",
      "\n"
     ]
    }
   ],
   "source": [
    "df = spark.createDataFrame(data=data, schema=schema)\n",
    "df.show()\n",
    "df.printSchema()"
   ]
  },
  {
   "cell_type": "code",
   "execution_count": 9,
   "metadata": {},
   "outputs": [],
   "source": [
    "df1 = df.withColumn(\"props_json\",to_json(df.props))"
   ]
  },
  {
   "cell_type": "code",
   "execution_count": 11,
   "metadata": {},
   "outputs": [
    {
     "name": "stdout",
     "output_type": "stream",
     "text": [
      "+----+-------------+------------------------------+\n",
      "|name|props        |props_json                    |\n",
      "+----+-------------+------------------------------+\n",
      "|tony|{black, blue}|{\"hair\":\"black\",\"eyes\":\"blue\"}|\n",
      "+----+-------------+------------------------------+\n",
      "\n"
     ]
    }
   ],
   "source": [
    "df1.show(truncate=False)"
   ]
  },
  {
   "cell_type": "code",
   "execution_count": 12,
   "metadata": {},
   "outputs": [
    {
     "name": "stdout",
     "output_type": "stream",
     "text": [
      "root\n",
      " |-- name: string (nullable = true)\n",
      " |-- props: struct (nullable = true)\n",
      " |    |-- hair: string (nullable = true)\n",
      " |    |-- eyes: string (nullable = true)\n",
      " |-- props_json: string (nullable = true)\n",
      "\n"
     ]
    }
   ],
   "source": [
    "df1.printSchema()"
   ]
  },
  {
   "cell_type": "code",
   "execution_count": 13,
   "metadata": {},
   "outputs": [
    {
     "name": "stdout",
     "output_type": "stream",
     "text": [
      "Help on function to_json in module pyspark.sql.functions:\n",
      "\n",
      "to_json(col: 'ColumnOrName', options: Optional[Dict[str, str]] = None) -> pyspark.sql.column.Column\n",
      "    Converts a column containing a :class:`StructType`, :class:`ArrayType` or a :class:`MapType`\n",
      "    into a JSON string. Throws an exception, in the case of an unsupported type.\n",
      "    \n",
      "    .. versionadded:: 2.1.0\n",
      "    \n",
      "    .. versionchanged:: 3.4.0\n",
      "        Supports Spark Connect.\n",
      "    \n",
      "    Parameters\n",
      "    ----------\n",
      "    col : :class:`~pyspark.sql.Column` or str\n",
      "        name of column containing a struct, an array or a map.\n",
      "    options : dict, optional\n",
      "        options to control converting. accepts the same options as the JSON datasource.\n",
      "        See `Data Source Option <https://spark.apache.org/docs/latest/sql-data-sources-json.html#data-source-option>`_\n",
      "        for the version you use.\n",
      "        Additionally the function supports the `pretty` option which enables\n",
      "        pretty JSON generation.\n",
      "    \n",
      "        .. # noqa\n",
      "    \n",
      "    Returns\n",
      "    -------\n",
      "    :class:`~pyspark.sql.Column`\n",
      "        JSON object as string column.\n",
      "    \n",
      "    Examples\n",
      "    --------\n",
      "    >>> from pyspark.sql import Row\n",
      "    >>> from pyspark.sql.types import *\n",
      "    >>> data = [(1, Row(age=2, name='Alice'))]\n",
      "    >>> df = spark.createDataFrame(data, (\"key\", \"value\"))\n",
      "    >>> df.select(to_json(df.value).alias(\"json\")).collect()\n",
      "    [Row(json='{\"age\":2,\"name\":\"Alice\"}')]\n",
      "    >>> data = [(1, [Row(age=2, name='Alice'), Row(age=3, name='Bob')])]\n",
      "    >>> df = spark.createDataFrame(data, (\"key\", \"value\"))\n",
      "    >>> df.select(to_json(df.value).alias(\"json\")).collect()\n",
      "    [Row(json='[{\"age\":2,\"name\":\"Alice\"},{\"age\":3,\"name\":\"Bob\"}]')]\n",
      "    >>> data = [(1, {\"name\": \"Alice\"})]\n",
      "    >>> df = spark.createDataFrame(data, (\"key\", \"value\"))\n",
      "    >>> df.select(to_json(df.value).alias(\"json\")).collect()\n",
      "    [Row(json='{\"name\":\"Alice\"}')]\n",
      "    >>> data = [(1, [{\"name\": \"Alice\"}, {\"name\": \"Bob\"}])]\n",
      "    >>> df = spark.createDataFrame(data, (\"key\", \"value\"))\n",
      "    >>> df.select(to_json(df.value).alias(\"json\")).collect()\n",
      "    [Row(json='[{\"name\":\"Alice\"},{\"name\":\"Bob\"}]')]\n",
      "    >>> data = [(1, [\"Alice\", \"Bob\"])]\n",
      "    >>> df = spark.createDataFrame(data, (\"key\", \"value\"))\n",
      "    >>> df.select(to_json(df.value).alias(\"json\")).collect()\n",
      "    [Row(json='[\"Alice\",\"Bob\"]')]\n",
      "\n"
     ]
    }
   ],
   "source": [
    "help(to_json)"
   ]
  },
  {
   "cell_type": "code",
   "execution_count": null,
   "metadata": {},
   "outputs": [],
   "source": []
  }
 ],
 "metadata": {
  "kernelspec": {
   "display_name": "Python 3",
   "language": "python",
   "name": "python3"
  },
  "language_info": {
   "codemirror_mode": {
    "name": "ipython",
    "version": 3
   },
   "file_extension": ".py",
   "mimetype": "text/x-python",
   "name": "python",
   "nbconvert_exporter": "python",
   "pygments_lexer": "ipython3",
   "version": "3.10.12"
  }
 },
 "nbformat": 4,
 "nbformat_minor": 2
}
