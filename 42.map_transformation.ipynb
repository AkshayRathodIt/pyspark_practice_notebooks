{
 "cells": [
  {
   "cell_type": "code",
   "execution_count": 1,
   "metadata": {},
   "outputs": [
    {
     "name": "stderr",
     "output_type": "stream",
     "text": [
      "24/06/24 11:31:35 WARN Utils: Your hostname, akshay-vm resolves to a loopback address: 127.0.1.1; using 10.0.2.15 instead (on interface enp0s3)\n",
      "24/06/24 11:31:35 WARN Utils: Set SPARK_LOCAL_IP if you need to bind to another address\n",
      "Setting default log level to \"WARN\".\n",
      "To adjust logging level use sc.setLogLevel(newLevel). For SparkR, use setLogLevel(newLevel).\n",
      "24/06/24 11:31:38 WARN NativeCodeLoader: Unable to load native-hadoop library for your platform... using builtin-java classes where applicable\n"
     ]
    }
   ],
   "source": [
    "import findspark\n",
    "findspark.init('/home/akshay/spark-3.5.1-bin-hadoop3')\n",
    "from pyspark.sql import SparkSession\n",
    "spark = SparkSession.builder.appName(\"spark_tutorials_1\").getOrCreate()"
   ]
  },
  {
   "cell_type": "code",
   "execution_count": 2,
   "metadata": {},
   "outputs": [],
   "source": [
    "employees = [\n",
    "    (1, 'John Doe', 50000, 2000),\n",
    "    (2, 'Jane Smith', 60000, 2500),\n",
    "    (3, 'Michael Johnson', 55000, 2200),\n",
    "    (4, 'Emily Davis', 52000, 1800),\n",
    "    (5, 'Chris Brown', 58000, 2700),\n",
    "    (6, 'Sarah Wilson', 53000, 2000),\n",
    "    (7, 'Kevin Lee', 51000, 1900),\n",
    "    (8, 'Jessica Moore', 59000, 2600),\n",
    "    (9, 'David Anderson', 54000, 2100),\n",
    "    (10, 'Amy Taylor', 57000, 2400)\n",
    "]\n"
   ]
  },
  {
   "cell_type": "code",
   "execution_count": 3,
   "metadata": {},
   "outputs": [],
   "source": [
    "data_rdd = spark.sparkContext.parallelize(employees)"
   ]
  },
  {
   "cell_type": "markdown",
   "metadata": {},
   "source": [
    "with help of map transformation add salaary and bonas column"
   ]
  },
  {
   "cell_type": "code",
   "execution_count": 4,
   "metadata": {},
   "outputs": [],
   "source": [
    "data_rdd_2 = data_rdd.map(lambda x : x + (x[2] + x[3],))"
   ]
  },
  {
   "cell_type": "code",
   "execution_count": 5,
   "metadata": {},
   "outputs": [
    {
     "data": {
      "text/plain": [
       "[(1, 'John Doe', 50000, 2000, 52000),\n",
       " (2, 'Jane Smith', 60000, 2500, 62500),\n",
       " (3, 'Michael Johnson', 55000, 2200, 57200),\n",
       " (4, 'Emily Davis', 52000, 1800, 53800),\n",
       " (5, 'Chris Brown', 58000, 2700, 60700),\n",
       " (6, 'Sarah Wilson', 53000, 2000, 55000),\n",
       " (7, 'Kevin Lee', 51000, 1900, 52900),\n",
       " (8, 'Jessica Moore', 59000, 2600, 61600),\n",
       " (9, 'David Anderson', 54000, 2100, 56100),\n",
       " (10, 'Amy Taylor', 57000, 2400, 59400)]"
      ]
     },
     "execution_count": 5,
     "metadata": {},
     "output_type": "execute_result"
    }
   ],
   "source": [
    "data_rdd_2.collect()"
   ]
  },
  {
   "cell_type": "code",
   "execution_count": 6,
   "metadata": {},
   "outputs": [],
   "source": [
    "def total_salary(x):\n",
    "    return x + (x[2] + x[3],)"
   ]
  },
  {
   "cell_type": "code",
   "execution_count": 7,
   "metadata": {},
   "outputs": [
    {
     "data": {
      "text/plain": [
       "[(1, 'John Doe', 50000, 2000, 52000),\n",
       " (2, 'Jane Smith', 60000, 2500, 62500),\n",
       " (3, 'Michael Johnson', 55000, 2200, 57200),\n",
       " (4, 'Emily Davis', 52000, 1800, 53800),\n",
       " (5, 'Chris Brown', 58000, 2700, 60700),\n",
       " (6, 'Sarah Wilson', 53000, 2000, 55000),\n",
       " (7, 'Kevin Lee', 51000, 1900, 52900),\n",
       " (8, 'Jessica Moore', 59000, 2600, 61600),\n",
       " (9, 'David Anderson', 54000, 2100, 56100),\n",
       " (10, 'Amy Taylor', 57000, 2400, 59400)]"
      ]
     },
     "execution_count": 7,
     "metadata": {},
     "output_type": "execute_result"
    }
   ],
   "source": [
    "data_rdd_3 = data_rdd.map(lambda x : total_salary(x))\n",
    "data_rdd_3.collect()"
   ]
  },
  {
   "cell_type": "code",
   "execution_count": null,
   "metadata": {},
   "outputs": [],
   "source": []
  }
 ],
 "metadata": {
  "kernelspec": {
   "display_name": "Python 3",
   "language": "python",
   "name": "python3"
  },
  "language_info": {
   "codemirror_mode": {
    "name": "ipython",
    "version": 3
   },
   "file_extension": ".py",
   "mimetype": "text/x-python",
   "name": "python",
   "nbconvert_exporter": "python",
   "pygments_lexer": "ipython3",
   "version": "3.10.12"
  }
 },
 "nbformat": 4,
 "nbformat_minor": 2
}
