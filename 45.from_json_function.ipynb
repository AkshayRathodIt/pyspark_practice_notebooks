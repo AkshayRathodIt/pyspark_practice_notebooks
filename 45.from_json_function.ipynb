{
 "cells": [
  {
   "cell_type": "code",
   "execution_count": 1,
   "metadata": {},
   "outputs": [
    {
     "name": "stderr",
     "output_type": "stream",
     "text": [
      "24/06/28 23:07:32 WARN Utils: Your hostname, akshay-vm resolves to a loopback address: 127.0.1.1; using 10.0.2.15 instead (on interface enp0s3)\n",
      "24/06/28 23:07:32 WARN Utils: Set SPARK_LOCAL_IP if you need to bind to another address\n",
      "Setting default log level to \"WARN\".\n",
      "To adjust logging level use sc.setLogLevel(newLevel). For SparkR, use setLogLevel(newLevel).\n",
      "24/06/28 23:07:36 WARN NativeCodeLoader: Unable to load native-hadoop library for your platform... using builtin-java classes where applicable\n"
     ]
    }
   ],
   "source": [
    "import findspark\n",
    "findspark.init('/home/akshay/spark-3.5.1-bin-hadoop3')\n",
    "from pyspark.sql import SparkSession\n",
    "spark = SparkSession.builder.appName(\"spark_tutorials_1\").getOrCreate()"
   ]
  },
  {
   "cell_type": "code",
   "execution_count": 2,
   "metadata": {},
   "outputs": [],
   "source": [
    "data = [(\"tony\",\"{'hair':'black','eyes':'blue'}\")]"
   ]
  },
  {
   "cell_type": "code",
   "execution_count": 3,
   "metadata": {},
   "outputs": [],
   "source": [
    "schema = [\"name\",\"props\"]"
   ]
  },
  {
   "cell_type": "code",
   "execution_count": 4,
   "metadata": {},
   "outputs": [],
   "source": [
    "df = spark.createDataFrame(data=data, schema=schema)"
   ]
  },
  {
   "cell_type": "code",
   "execution_count": 5,
   "metadata": {},
   "outputs": [
    {
     "name": "stderr",
     "output_type": "stream",
     "text": [
      "                                                                                \r"
     ]
    },
    {
     "name": "stdout",
     "output_type": "stream",
     "text": [
      "+----+------------------------------+\n",
      "|name|props                         |\n",
      "+----+------------------------------+\n",
      "|tony|{'hair':'black','eyes':'blue'}|\n",
      "+----+------------------------------+\n",
      "\n"
     ]
    }
   ],
   "source": [
    "df.show(truncate=False)"
   ]
  },
  {
   "cell_type": "code",
   "execution_count": 6,
   "metadata": {},
   "outputs": [],
   "source": [
    "from pyspark.sql.functions import from_json\n",
    "from pyspark.sql.types import MapType, StringType"
   ]
  },
  {
   "cell_type": "code",
   "execution_count": 7,
   "metadata": {},
   "outputs": [],
   "source": [
    "MapSchema = MapType(StringType(),StringType())"
   ]
  },
  {
   "cell_type": "code",
   "execution_count": 9,
   "metadata": {},
   "outputs": [
    {
     "name": "stdout",
     "output_type": "stream",
     "text": [
      "Help on function from_json in module pyspark.sql.functions:\n",
      "\n",
      "from_json(col: 'ColumnOrName', schema: Union[pyspark.sql.types.ArrayType, pyspark.sql.types.StructType, pyspark.sql.column.Column, str], options: Optional[Dict[str, str]] = None) -> pyspark.sql.column.Column\n",
      "    Parses a column containing a JSON string into a :class:`MapType` with :class:`StringType`\n",
      "    as keys type, :class:`StructType` or :class:`ArrayType` with\n",
      "    the specified schema. Returns `null`, in the case of an unparseable string.\n",
      "    \n",
      "    .. versionadded:: 2.1.0\n",
      "    \n",
      "    .. versionchanged:: 3.4.0\n",
      "        Supports Spark Connect.\n",
      "    \n",
      "    Parameters\n",
      "    ----------\n",
      "    col : :class:`~pyspark.sql.Column` or str\n",
      "        a column or column name in JSON format\n",
      "    schema : :class:`DataType` or str\n",
      "        a StructType, ArrayType of StructType or Python string literal with a DDL-formatted string\n",
      "        to use when parsing the json column\n",
      "    options : dict, optional\n",
      "        options to control parsing. accepts the same options as the json datasource.\n",
      "        See `Data Source Option <https://spark.apache.org/docs/latest/sql-data-sources-json.html#data-source-option>`_\n",
      "        for the version you use.\n",
      "    \n",
      "        .. # noqa\n",
      "    \n",
      "    Returns\n",
      "    -------\n",
      "    :class:`~pyspark.sql.Column`\n",
      "        a new column of complex type from given JSON object.\n",
      "    \n",
      "    Examples\n",
      "    --------\n",
      "    >>> from pyspark.sql.types import *\n",
      "    >>> data = [(1, '''{\"a\": 1}''')]\n",
      "    >>> schema = StructType([StructField(\"a\", IntegerType())])\n",
      "    >>> df = spark.createDataFrame(data, (\"key\", \"value\"))\n",
      "    >>> df.select(from_json(df.value, schema).alias(\"json\")).collect()\n",
      "    [Row(json=Row(a=1))]\n",
      "    >>> df.select(from_json(df.value, \"a INT\").alias(\"json\")).collect()\n",
      "    [Row(json=Row(a=1))]\n",
      "    >>> df.select(from_json(df.value, \"MAP<STRING,INT>\").alias(\"json\")).collect()\n",
      "    [Row(json={'a': 1})]\n",
      "    >>> data = [(1, '''[{\"a\": 1}]''')]\n",
      "    >>> schema = ArrayType(StructType([StructField(\"a\", IntegerType())]))\n",
      "    >>> df = spark.createDataFrame(data, (\"key\", \"value\"))\n",
      "    >>> df.select(from_json(df.value, schema).alias(\"json\")).collect()\n",
      "    [Row(json=[Row(a=1)])]\n",
      "    >>> schema = schema_of_json(lit('''{\"a\": 0}'''))\n",
      "    >>> df.select(from_json(df.value, schema).alias(\"json\")).collect()\n",
      "    [Row(json=Row(a=None))]\n",
      "    >>> data = [(1, '''[1, 2, 3]''')]\n",
      "    >>> schema = ArrayType(IntegerType())\n",
      "    >>> df = spark.createDataFrame(data, (\"key\", \"value\"))\n",
      "    >>> df.select(from_json(df.value, schema).alias(\"json\")).collect()\n",
      "    [Row(json=[1, 2, 3])]\n",
      "\n"
     ]
    }
   ],
   "source": [
    "help(from_json)"
   ]
  },
  {
   "cell_type": "code",
   "execution_count": 10,
   "metadata": {},
   "outputs": [],
   "source": [
    "df1 = df.withColumn(\"Mapprops\", from_json(\"props\",MapSchema))"
   ]
  },
  {
   "cell_type": "code",
   "execution_count": 12,
   "metadata": {},
   "outputs": [
    {
     "name": "stdout",
     "output_type": "stream",
     "text": [
      "+----+------------------------------+-----------------------------+\n",
      "|name|props                         |Mapprops                     |\n",
      "+----+------------------------------+-----------------------------+\n",
      "|tony|{'hair':'black','eyes':'blue'}|{hair -> black, eyes -> blue}|\n",
      "+----+------------------------------+-----------------------------+\n",
      "\n",
      "root\n",
      " |-- name: string (nullable = true)\n",
      " |-- props: string (nullable = true)\n",
      " |-- Mapprops: map (nullable = true)\n",
      " |    |-- key: string\n",
      " |    |-- value: string (valueContainsNull = true)\n",
      "\n"
     ]
    }
   ],
   "source": [
    "df1.show(truncate=False)\n",
    "df1.printSchema()"
   ]
  },
  {
   "cell_type": "code",
   "execution_count": 13,
   "metadata": {},
   "outputs": [
    {
     "name": "stdout",
     "output_type": "stream",
     "text": [
      "+----+--------------------+--------------------+-----+----+\n",
      "|name|               props|            Mapprops| hair|eyes|\n",
      "+----+--------------------+--------------------+-----+----+\n",
      "|tony|{'hair':'black','...|{hair -> black, e...|black|NULL|\n",
      "+----+--------------------+--------------------+-----+----+\n",
      "\n"
     ]
    }
   ],
   "source": [
    "df2 = df1.withColumn(\"hair\",df1.Mapprops.hair).withColumn(\"eyes\",df1.Mapprops.eye)\n",
    "df2.show()"
   ]
  },
  {
   "cell_type": "code",
   "execution_count": null,
   "metadata": {},
   "outputs": [],
   "source": []
  }
 ],
 "metadata": {
  "kernelspec": {
   "display_name": "Python 3",
   "language": "python",
   "name": "python3"
  },
  "language_info": {
   "codemirror_mode": {
    "name": "ipython",
    "version": 3
   },
   "file_extension": ".py",
   "mimetype": "text/x-python",
   "name": "python",
   "nbconvert_exporter": "python",
   "pygments_lexer": "ipython3",
   "version": "3.10.12"
  }
 },
 "nbformat": 4,
 "nbformat_minor": 2
}
