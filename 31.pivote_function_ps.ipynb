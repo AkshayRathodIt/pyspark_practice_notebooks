{
 "cells": [
  {
   "cell_type": "code",
   "execution_count": 1,
   "metadata": {},
   "outputs": [
    {
     "name": "stderr",
     "output_type": "stream",
     "text": [
      "24/06/22 14:03:26 WARN Utils: Your hostname, akshay-vm resolves to a loopback address: 127.0.1.1; using 10.0.2.15 instead (on interface enp0s3)\n",
      "24/06/22 14:03:26 WARN Utils: Set SPARK_LOCAL_IP if you need to bind to another address\n",
      "Setting default log level to \"WARN\".\n",
      "To adjust logging level use sc.setLogLevel(newLevel). For SparkR, use setLogLevel(newLevel).\n",
      "24/06/22 14:03:28 WARN NativeCodeLoader: Unable to load native-hadoop library for your platform... using builtin-java classes where applicable\n",
      "24/06/22 14:03:30 WARN Utils: Service 'SparkUI' could not bind on port 4040. Attempting port 4041.\n"
     ]
    }
   ],
   "source": [
    "import findspark\n",
    "findspark.init('/home/akshay/spark-3.5.1-bin-hadoop3')\n",
    "from pyspark.sql import SparkSession\n",
    "spark = SparkSession.builder.appName(\"spark_tutorials_1\").getOrCreate()"
   ]
  },
  {
   "cell_type": "code",
   "execution_count": 2,
   "metadata": {},
   "outputs": [],
   "source": [
    "employees = [\n",
    "    (1, 'Alice', 'Female', 'HR'),\n",
    "    (2, 'Bob', 'Male', 'IT'),\n",
    "    (3, 'Charlie', 'Male', 'Finance'),\n",
    "    (4, 'Diana', 'Female', 'Marketing'),\n",
    "    (5, 'Eve', 'Female', 'Sales'),\n",
    "    (6, 'Frank', 'Male', 'Engineering'),\n",
    "    (7, 'Grace', 'Female', 'HR'),\n",
    "    (8, 'Henry', 'Male', 'Finance'),\n",
    "    (9, 'Ivy', 'Female', 'IT'),\n",
    "    (10, 'Jack', 'Male', 'Marketing'),\n",
    "    (11, 'Kate', 'Female', 'Engineering'),\n",
    "    (12, 'Leo', 'Male', 'Sales'),\n",
    "    (13, 'Mia', 'Female', 'IT'),\n",
    "    (14, 'Nathan', 'Male', 'HR'),\n",
    "    (15, 'Olivia', 'Female', 'Marketing')\n",
    "]\n"
   ]
  },
  {
   "cell_type": "code",
   "execution_count": 3,
   "metadata": {},
   "outputs": [],
   "source": [
    "schema = [\"id\",\"name\",\"gender\",\"depertment\"]"
   ]
  },
  {
   "cell_type": "code",
   "execution_count": 4,
   "metadata": {},
   "outputs": [],
   "source": [
    "df = spark.createDataFrame(data=employees, schema=schema)"
   ]
  },
  {
   "cell_type": "code",
   "execution_count": 5,
   "metadata": {},
   "outputs": [
    {
     "name": "stderr",
     "output_type": "stream",
     "text": [
      "                                                                                \r"
     ]
    },
    {
     "name": "stdout",
     "output_type": "stream",
     "text": [
      "+---+-------+------+-----------+\n",
      "| id|   name|gender| depertment|\n",
      "+---+-------+------+-----------+\n",
      "|  1|  Alice|Female|         HR|\n",
      "|  2|    Bob|  Male|         IT|\n",
      "|  3|Charlie|  Male|    Finance|\n",
      "|  4|  Diana|Female|  Marketing|\n",
      "|  5|    Eve|Female|      Sales|\n",
      "|  6|  Frank|  Male|Engineering|\n",
      "|  7|  Grace|Female|         HR|\n",
      "|  8|  Henry|  Male|    Finance|\n",
      "|  9|    Ivy|Female|         IT|\n",
      "| 10|   Jack|  Male|  Marketing|\n",
      "| 11|   Kate|Female|Engineering|\n",
      "| 12|    Leo|  Male|      Sales|\n",
      "| 13|    Mia|Female|         IT|\n",
      "| 14| Nathan|  Male|         HR|\n",
      "| 15| Olivia|Female|  Marketing|\n",
      "+---+-------+------+-----------+\n",
      "\n"
     ]
    }
   ],
   "source": [
    "df.show()"
   ]
  },
  {
   "cell_type": "code",
   "execution_count": 6,
   "metadata": {},
   "outputs": [],
   "source": [
    "count_df = df.groupBy(\"depertment\", \"gender\").count()"
   ]
  },
  {
   "cell_type": "code",
   "execution_count": 7,
   "metadata": {},
   "outputs": [
    {
     "name": "stderr",
     "output_type": "stream",
     "text": [
      "[Stage 2:>                                                          (0 + 4) / 4]\r"
     ]
    },
    {
     "name": "stdout",
     "output_type": "stream",
     "text": [
      "+-----------+------+-----+\n",
      "| depertment|gender|count|\n",
      "+-----------+------+-----+\n",
      "|         IT|  Male|    1|\n",
      "|    Finance|  Male|    2|\n",
      "|         HR|Female|    2|\n",
      "|Engineering|  Male|    1|\n",
      "|  Marketing|Female|    2|\n",
      "|      Sales|Female|    1|\n",
      "|         IT|Female|    2|\n",
      "|         HR|  Male|    1|\n",
      "|Engineering|Female|    1|\n",
      "|      Sales|  Male|    1|\n",
      "|  Marketing|  Male|    1|\n",
      "+-----------+------+-----+\n",
      "\n"
     ]
    },
    {
     "name": "stderr",
     "output_type": "stream",
     "text": [
      "                                                                                \r"
     ]
    }
   ],
   "source": [
    "count_df.show()"
   ]
  },
  {
   "cell_type": "markdown",
   "metadata": {},
   "source": [
    "pivot transformation"
   ]
  },
  {
   "cell_type": "code",
   "execution_count": 8,
   "metadata": {},
   "outputs": [
    {
     "name": "stderr",
     "output_type": "stream",
     "text": [
      "                                                                                \r"
     ]
    }
   ],
   "source": [
    "pivot_df = df.groupBy(\"depertment\").pivot(\"gender\").count()"
   ]
  },
  {
   "cell_type": "code",
   "execution_count": 9,
   "metadata": {},
   "outputs": [
    {
     "name": "stdout",
     "output_type": "stream",
     "text": [
      "+-----------+------+----+\n",
      "| depertment|Female|Male|\n",
      "+-----------+------+----+\n",
      "|      Sales|     1|   1|\n",
      "|Engineering|     1|   1|\n",
      "|         HR|     2|   1|\n",
      "|    Finance|  NULL|   2|\n",
      "|  Marketing|     2|   1|\n",
      "|         IT|     2|   1|\n",
      "+-----------+------+----+\n",
      "\n"
     ]
    }
   ],
   "source": [
    "pivot_df.show()"
   ]
  },
  {
   "cell_type": "markdown",
   "metadata": {},
   "source": [
    "we can have specific column as well"
   ]
  },
  {
   "cell_type": "code",
   "execution_count": 13,
   "metadata": {},
   "outputs": [
    {
     "name": "stdout",
     "output_type": "stream",
     "text": [
      "+-----------+----+\n",
      "| depertment|male|\n",
      "+-----------+----+\n",
      "|      Sales|NULL|\n",
      "|Engineering|NULL|\n",
      "|         HR|NULL|\n",
      "|    Finance|NULL|\n",
      "|  Marketing|NULL|\n",
      "|         IT|NULL|\n",
      "+-----------+----+\n",
      "\n"
     ]
    }
   ],
   "source": [
    "pivot_df_1 = df.groupBy(\"depertment\").pivot(\"gender\",[\"male\"]).count()\n",
    "pivot_df_1.show()"
   ]
  },
  {
   "cell_type": "code",
   "execution_count": 14,
   "metadata": {},
   "outputs": [
    {
     "name": "stderr",
     "output_type": "stream",
     "text": [
      "[Stage 25:=============================>                            (2 + 2) / 4]\r"
     ]
    },
    {
     "name": "stdout",
     "output_type": "stream",
     "text": [
      "+------+-----+---+---------+\n",
      "|gender|Sales| IT|Marketing|\n",
      "+------+-----+---+---------+\n",
      "|Female|    1|  2|        2|\n",
      "|  Male|    1|  1|        1|\n",
      "+------+-----+---+---------+\n",
      "\n"
     ]
    },
    {
     "name": "stderr",
     "output_type": "stream",
     "text": [
      "                                                                                \r"
     ]
    }
   ],
   "source": [
    "pivot_df_2 = df.groupBy(\"gender\").pivot(\"depertment\",[\"Sales\",\"IT\",\"Marketing\"]).count()\n",
    "pivot_df_2.show()"
   ]
  },
  {
   "cell_type": "code",
   "execution_count": null,
   "metadata": {},
   "outputs": [],
   "source": []
  }
 ],
 "metadata": {
  "kernelspec": {
   "display_name": "Python 3",
   "language": "python",
   "name": "python3"
  },
  "language_info": {
   "codemirror_mode": {
    "name": "ipython",
    "version": 3
   },
   "file_extension": ".py",
   "mimetype": "text/x-python",
   "name": "python",
   "nbconvert_exporter": "python",
   "pygments_lexer": "ipython3",
   "version": "3.10.12"
  }
 },
 "nbformat": 4,
 "nbformat_minor": 2
}
