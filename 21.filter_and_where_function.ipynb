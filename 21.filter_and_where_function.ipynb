{
 "cells": [
  {
   "cell_type": "code",
   "execution_count": 1,
   "metadata": {},
   "outputs": [
    {
     "name": "stderr",
     "output_type": "stream",
     "text": [
      "24/06/14 17:25:47 WARN Utils: Your hostname, akshay-vm resolves to a loopback address: 127.0.1.1; using 10.0.2.15 instead (on interface enp0s3)\n",
      "24/06/14 17:25:47 WARN Utils: Set SPARK_LOCAL_IP if you need to bind to another address\n",
      "Setting default log level to \"WARN\".\n",
      "To adjust logging level use sc.setLogLevel(newLevel). For SparkR, use setLogLevel(newLevel).\n",
      "24/06/14 17:25:48 WARN NativeCodeLoader: Unable to load native-hadoop library for your platform... using builtin-java classes where applicable\n",
      "24/06/14 17:25:50 WARN Utils: Service 'SparkUI' could not bind on port 4040. Attempting port 4041.\n"
     ]
    }
   ],
   "source": [
    "import findspark\n",
    "findspark.init('/home/akshay/spark-3.5.1-bin-hadoop3')\n",
    "from pyspark.sql import SparkSession\n",
    "spark = SparkSession.builder.appName(\"spark_tutorials_1\").getOrCreate()"
   ]
  },
  {
   "cell_type": "code",
   "execution_count": 2,
   "metadata": {},
   "outputs": [],
   "source": [
    "data = [\n",
    "    (1, 'Alice', 'F', 50000),\n",
    "    (2, 'Bob', 'M', 60000),\n",
    "    (3, 'Charlie', 'M', 55000),\n",
    "    (4, 'David', 'M', 62000),\n",
    "    (5, 'Eve', 'F', 51000),\n",
    "    (6, 'Fiona', 'F', 48000),\n",
    "    (7, 'George', 'M', 59000),\n",
    "    (8, 'Hannah', 'F', 54000),\n",
    "    (9, 'Ian', 'M', 63000),\n",
    "    (10, 'Jane', 'F', 52000),\n",
    "    (11, 'Kevin', 'M', 58000),\n",
    "    (12, 'Lily', 'F', 49000),\n",
    "    (13, 'Mike', 'M', 64000),\n",
    "    (14, 'Nora', 'F', 56000),\n",
    "    (15, 'Oscar', 'M', 67000),\n",
    "    (16, 'Pam', 'F', 53000),\n",
    "    (17, 'Quinn', '', 61000),\n",
    "    (18, 'Rachel', '', 57000),\n",
    "    (19, 'Sam', 'M', 65000),\n",
    "    (20, 'Tina', 'F', 59000)\n",
    "]\n"
   ]
  },
  {
   "cell_type": "code",
   "execution_count": 3,
   "metadata": {},
   "outputs": [],
   "source": [
    "schema = [\"id\", \"name\", \"gender\",\"salary\"]"
   ]
  },
  {
   "cell_type": "code",
   "execution_count": 4,
   "metadata": {},
   "outputs": [
    {
     "name": "stderr",
     "output_type": "stream",
     "text": [
      "                                                                                \r"
     ]
    },
    {
     "name": "stdout",
     "output_type": "stream",
     "text": [
      "+---+-------+------+------+\n",
      "| id|   name|gender|salary|\n",
      "+---+-------+------+------+\n",
      "|  1|  Alice|     F| 50000|\n",
      "|  2|    Bob|     M| 60000|\n",
      "|  3|Charlie|     M| 55000|\n",
      "|  4|  David|     M| 62000|\n",
      "|  5|    Eve|     F| 51000|\n",
      "|  6|  Fiona|     F| 48000|\n",
      "|  7| George|     M| 59000|\n",
      "|  8| Hannah|     F| 54000|\n",
      "|  9|    Ian|     M| 63000|\n",
      "| 10|   Jane|     F| 52000|\n",
      "| 11|  Kevin|     M| 58000|\n",
      "| 12|   Lily|     F| 49000|\n",
      "| 13|   Mike|     M| 64000|\n",
      "| 14|   Nora|     F| 56000|\n",
      "| 15|  Oscar|     M| 67000|\n",
      "| 16|    Pam|     F| 53000|\n",
      "| 17|  Quinn|      | 61000|\n",
      "| 18| Rachel|      | 57000|\n",
      "| 19|    Sam|     M| 65000|\n",
      "| 20|   Tina|     F| 59000|\n",
      "+---+-------+------+------+\n",
      "\n"
     ]
    }
   ],
   "source": [
    "df = spark.createDataFrame(data=data, schema=schema)\n",
    "df.show()"
   ]
  },
  {
   "cell_type": "markdown",
   "metadata": {},
   "source": [
    "filter clause"
   ]
  },
  {
   "cell_type": "code",
   "execution_count": 5,
   "metadata": {},
   "outputs": [
    {
     "name": "stdout",
     "output_type": "stream",
     "text": [
      "Help on method filter in module pyspark.sql.dataframe:\n",
      "\n",
      "filter(condition: 'ColumnOrName') -> 'DataFrame' method of pyspark.sql.dataframe.DataFrame instance\n",
      "    Filters rows using the given condition.\n",
      "    \n",
      "    :func:`where` is an alias for :func:`filter`.\n",
      "    \n",
      "    .. versionadded:: 1.3.0\n",
      "    \n",
      "    .. versionchanged:: 3.4.0\n",
      "        Supports Spark Connect.\n",
      "    \n",
      "    Parameters\n",
      "    ----------\n",
      "    condition : :class:`Column` or str\n",
      "        a :class:`Column` of :class:`types.BooleanType`\n",
      "        or a string of SQL expressions.\n",
      "    \n",
      "    Returns\n",
      "    -------\n",
      "    :class:`DataFrame`\n",
      "        Filtered DataFrame.\n",
      "    \n",
      "    Examples\n",
      "    --------\n",
      "    >>> df = spark.createDataFrame([\n",
      "    ...     (2, \"Alice\"), (5, \"Bob\")], schema=[\"age\", \"name\"])\n",
      "    \n",
      "    Filter by :class:`Column` instances.\n",
      "    \n",
      "    >>> df.filter(df.age > 3).show()\n",
      "    +---+----+\n",
      "    |age|name|\n",
      "    +---+----+\n",
      "    |  5| Bob|\n",
      "    +---+----+\n",
      "    >>> df.where(df.age == 2).show()\n",
      "    +---+-----+\n",
      "    |age| name|\n",
      "    +---+-----+\n",
      "    |  2|Alice|\n",
      "    +---+-----+\n",
      "    \n",
      "    Filter by SQL expression in a string.\n",
      "    \n",
      "    >>> df.filter(\"age > 3\").show()\n",
      "    +---+----+\n",
      "    |age|name|\n",
      "    +---+----+\n",
      "    |  5| Bob|\n",
      "    +---+----+\n",
      "    >>> df.where(\"age = 2\").show()\n",
      "    +---+-----+\n",
      "    |age| name|\n",
      "    +---+-----+\n",
      "    |  2|Alice|\n",
      "    +---+-----+\n",
      "\n"
     ]
    }
   ],
   "source": [
    "help(df.filter)"
   ]
  },
  {
   "cell_type": "code",
   "execution_count": 6,
   "metadata": {},
   "outputs": [
    {
     "name": "stdout",
     "output_type": "stream",
     "text": [
      "+---+-------+------+------+\n",
      "| id|   name|gender|salary|\n",
      "+---+-------+------+------+\n",
      "|  2|    Bob|     M| 60000|\n",
      "|  3|Charlie|     M| 55000|\n",
      "|  4|  David|     M| 62000|\n",
      "|  7| George|     M| 59000|\n",
      "|  9|    Ian|     M| 63000|\n",
      "| 11|  Kevin|     M| 58000|\n",
      "| 13|   Mike|     M| 64000|\n",
      "| 15|  Oscar|     M| 67000|\n",
      "| 19|    Sam|     M| 65000|\n",
      "+---+-------+------+------+\n",
      "\n"
     ]
    }
   ],
   "source": [
    "df1 = df.filter(df.gender == \"M\")\n",
    "df1.show()"
   ]
  },
  {
   "cell_type": "code",
   "execution_count": 8,
   "metadata": {},
   "outputs": [
    {
     "name": "stdout",
     "output_type": "stream",
     "text": [
      "+---+-------+------+------+\n",
      "| id|   name|gender|salary|\n",
      "+---+-------+------+------+\n",
      "|  2|    Bob|     M| 60000|\n",
      "|  3|Charlie|     M| 55000|\n",
      "|  4|  David|     M| 62000|\n",
      "|  7| George|     M| 59000|\n",
      "|  9|    Ian|     M| 63000|\n",
      "| 11|  Kevin|     M| 58000|\n",
      "| 13|   Mike|     M| 64000|\n",
      "| 15|  Oscar|     M| 67000|\n",
      "| 19|    Sam|     M| 65000|\n",
      "+---+-------+------+------+\n",
      "\n"
     ]
    }
   ],
   "source": [
    "df2 = df.filter(\"gender == 'M'\")\n",
    "df2.show()"
   ]
  },
  {
   "cell_type": "code",
   "execution_count": 9,
   "metadata": {},
   "outputs": [
    {
     "name": "stdout",
     "output_type": "stream",
     "text": [
      "+---+-----+------+------+\n",
      "| id| name|gender|salary|\n",
      "+---+-----+------+------+\n",
      "|  2|  Bob|     M| 60000|\n",
      "|  4|David|     M| 62000|\n",
      "|  9|  Ian|     M| 63000|\n",
      "| 13| Mike|     M| 64000|\n",
      "| 15|Oscar|     M| 67000|\n",
      "| 19|  Sam|     M| 65000|\n",
      "+---+-----+------+------+\n",
      "\n"
     ]
    }
   ],
   "source": [
    "df3 = df.where((df.gender == \"M\") & (df.salary >= 60000))\n",
    "df3.show()"
   ]
  },
  {
   "cell_type": "markdown",
   "metadata": {},
   "source": [
    "you can use where as well"
   ]
  },
  {
   "cell_type": "code",
   "execution_count": 10,
   "metadata": {},
   "outputs": [
    {
     "name": "stdout",
     "output_type": "stream",
     "text": [
      "+---+-----+------+------+\n",
      "| id| name|gender|salary|\n",
      "+---+-----+------+------+\n",
      "|  2|  Bob|     M| 60000|\n",
      "|  4|David|     M| 62000|\n",
      "|  9|  Ian|     M| 63000|\n",
      "| 13| Mike|     M| 64000|\n",
      "| 15|Oscar|     M| 67000|\n",
      "| 19|  Sam|     M| 65000|\n",
      "+---+-----+------+------+\n",
      "\n"
     ]
    }
   ],
   "source": [
    "df3 = df.filter((df.gender == \"M\") & (df.salary >= 60000))\n",
    "df3.show()"
   ]
  },
  {
   "cell_type": "code",
   "execution_count": null,
   "metadata": {},
   "outputs": [],
   "source": []
  }
 ],
 "metadata": {
  "kernelspec": {
   "display_name": "Python 3",
   "language": "python",
   "name": "python3"
  },
  "language_info": {
   "codemirror_mode": {
    "name": "ipython",
    "version": 3
   },
   "file_extension": ".py",
   "mimetype": "text/x-python",
   "name": "python",
   "nbconvert_exporter": "python",
   "pygments_lexer": "ipython3",
   "version": "3.10.12"
  }
 },
 "nbformat": 4,
 "nbformat_minor": 2
}
