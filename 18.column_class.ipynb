{
 "cells": [
  {
   "cell_type": "code",
   "execution_count": 1,
   "metadata": {},
   "outputs": [
    {
     "name": "stderr",
     "output_type": "stream",
     "text": [
      "24/06/13 18:49:06 WARN Utils: Your hostname, akshay-vm resolves to a loopback address: 127.0.1.1; using 10.0.2.15 instead (on interface enp0s3)\n",
      "24/06/13 18:49:06 WARN Utils: Set SPARK_LOCAL_IP if you need to bind to another address\n",
      "Setting default log level to \"WARN\".\n",
      "To adjust logging level use sc.setLogLevel(newLevel). For SparkR, use setLogLevel(newLevel).\n",
      "24/06/13 18:49:08 WARN NativeCodeLoader: Unable to load native-hadoop library for your platform... using builtin-java classes where applicable\n"
     ]
    }
   ],
   "source": [
    "import findspark\n",
    "findspark.init('/home/akshay/spark-3.5.1-bin-hadoop3')\n",
    "from pyspark.sql import SparkSession\n",
    "spark = SparkSession.builder.appName(\"spark_tutorials_1\").getOrCreate()"
   ]
  },
  {
   "cell_type": "code",
   "execution_count": 7,
   "metadata": {},
   "outputs": [],
   "source": [
    "data = [\n",
    "    (1, \"John\", 30, 50000),\n",
    "    (2, \"Alice\", 25, 45000),\n",
    "    (3, \"Bob\", 35, 60000),\n",
    "    (4, \"Emily\", 28, 52000),\n",
    "    (5, \"David\", 40, 70000),\n",
    "    (6, \"Sarah\", 33, 58000),\n",
    "    (7, \"Michael\", 45, 80000),\n",
    "    (8, \"Emma\", 27, 48000),\n",
    "    (9, \"James\", 38, 65000),\n",
    "    (10, \"Olivia\", 32, 55000)\n",
    "]"
   ]
  },
  {
   "cell_type": "code",
   "execution_count": 5,
   "metadata": {},
   "outputs": [],
   "source": [
    "from pyspark.sql.types import StructField, StructType, StringType, IntegerType, LongType\n",
    "from pyspark.sql.functions import col, lit"
   ]
  },
  {
   "cell_type": "code",
   "execution_count": 6,
   "metadata": {},
   "outputs": [],
   "source": [
    "schema = StructType([ \\\n",
    "                        StructField(\"id\", dataType=IntegerType()), \\\n",
    "                        StructField(\"name\", dataType=StringType()), \\\n",
    "                        StructField(\"age\", dataType=IntegerType()), \\\n",
    "                        StructField(\"salary\", dataType=LongType()) \\\n",
    "                    ])"
   ]
  },
  {
   "cell_type": "code",
   "execution_count": 8,
   "metadata": {},
   "outputs": [],
   "source": [
    "df = spark.createDataFrame(data=data, schema=schema)"
   ]
  },
  {
   "cell_type": "code",
   "execution_count": 9,
   "metadata": {},
   "outputs": [
    {
     "name": "stderr",
     "output_type": "stream",
     "text": [
      "                                                                                \r"
     ]
    },
    {
     "name": "stdout",
     "output_type": "stream",
     "text": [
      "+---+-------+---+------+\n",
      "| id|   name|age|salary|\n",
      "+---+-------+---+------+\n",
      "|  1|   John| 30| 50000|\n",
      "|  2|  Alice| 25| 45000|\n",
      "|  3|    Bob| 35| 60000|\n",
      "|  4|  Emily| 28| 52000|\n",
      "|  5|  David| 40| 70000|\n",
      "|  6|  Sarah| 33| 58000|\n",
      "|  7|Michael| 45| 80000|\n",
      "|  8|   Emma| 27| 48000|\n",
      "|  9|  James| 38| 65000|\n",
      "| 10| Olivia| 32| 55000|\n",
      "+---+-------+---+------+\n",
      "\n"
     ]
    }
   ],
   "source": [
    "df.show()"
   ]
  },
  {
   "cell_type": "markdown",
   "metadata": {},
   "source": [
    "adding new column with lit "
   ]
  },
  {
   "cell_type": "code",
   "execution_count": 10,
   "metadata": {},
   "outputs": [
    {
     "name": "stdout",
     "output_type": "stream",
     "text": [
      "+---+-------+---+------+-------+\n",
      "| id|   name|age|salary|Country|\n",
      "+---+-------+---+------+-------+\n",
      "|  1|   John| 30| 50000|  India|\n",
      "|  2|  Alice| 25| 45000|  India|\n",
      "|  3|    Bob| 35| 60000|  India|\n",
      "|  4|  Emily| 28| 52000|  India|\n",
      "|  5|  David| 40| 70000|  India|\n",
      "|  6|  Sarah| 33| 58000|  India|\n",
      "|  7|Michael| 45| 80000|  India|\n",
      "|  8|   Emma| 27| 48000|  India|\n",
      "|  9|  James| 38| 65000|  India|\n",
      "| 10| Olivia| 32| 55000|  India|\n",
      "+---+-------+---+------+-------+\n",
      "\n"
     ]
    }
   ],
   "source": [
    "df1 = df.withColumn(colName=\"Country\", col=lit(\"India\"))\n",
    "df1.show()"
   ]
  },
  {
   "cell_type": "markdown",
   "metadata": {},
   "source": [
    "access a column"
   ]
  },
  {
   "cell_type": "code",
   "execution_count": 12,
   "metadata": {},
   "outputs": [
    {
     "name": "stdout",
     "output_type": "stream",
     "text": [
      "+-------+------+-------+\n",
      "|   name|salary|Country|\n",
      "+-------+------+-------+\n",
      "|   John| 50000|  India|\n",
      "|  Alice| 45000|  India|\n",
      "|    Bob| 60000|  India|\n",
      "|  Emily| 52000|  India|\n",
      "|  David| 70000|  India|\n",
      "|  Sarah| 58000|  India|\n",
      "|Michael| 80000|  India|\n",
      "|   Emma| 48000|  India|\n",
      "|  James| 65000|  India|\n",
      "| Olivia| 55000|  India|\n",
      "+-------+------+-------+\n",
      "\n"
     ]
    }
   ],
   "source": [
    "df1.select(col(\"name\"), col(\"salary\"), col(\"Country\")).show()"
   ]
  },
  {
   "cell_type": "code",
   "execution_count": 13,
   "metadata": {},
   "outputs": [
    {
     "name": "stdout",
     "output_type": "stream",
     "text": [
      "+-------+------+-------+\n",
      "|   name|salary|Country|\n",
      "+-------+------+-------+\n",
      "|   John| 50000|  India|\n",
      "|  Alice| 45000|  India|\n",
      "|    Bob| 60000|  India|\n",
      "|  Emily| 52000|  India|\n",
      "|  David| 70000|  India|\n",
      "|  Sarah| 58000|  India|\n",
      "|Michael| 80000|  India|\n",
      "|   Emma| 48000|  India|\n",
      "|  James| 65000|  India|\n",
      "| Olivia| 55000|  India|\n",
      "+-------+------+-------+\n",
      "\n"
     ]
    }
   ],
   "source": [
    "df1.select(df1[\"name\"], df1[\"salary\"], df1[\"Country\"]).show()"
   ]
  },
  {
   "cell_type": "code",
   "execution_count": 14,
   "metadata": {},
   "outputs": [
    {
     "name": "stdout",
     "output_type": "stream",
     "text": [
      "+-------+------+-------+\n",
      "|   name|salary|Country|\n",
      "+-------+------+-------+\n",
      "|   John| 50000|  India|\n",
      "|  Alice| 45000|  India|\n",
      "|    Bob| 60000|  India|\n",
      "|  Emily| 52000|  India|\n",
      "|  David| 70000|  India|\n",
      "|  Sarah| 58000|  India|\n",
      "|Michael| 80000|  India|\n",
      "|   Emma| 48000|  India|\n",
      "|  James| 65000|  India|\n",
      "| Olivia| 55000|  India|\n",
      "+-------+------+-------+\n",
      "\n"
     ]
    }
   ],
   "source": [
    "df1.select(df1.name, df1.salary, df1.Country).show()"
   ]
  },
  {
   "cell_type": "code",
   "execution_count": null,
   "metadata": {},
   "outputs": [],
   "source": []
  }
 ],
 "metadata": {
  "kernelspec": {
   "display_name": "Python 3",
   "language": "python",
   "name": "python3"
  },
  "language_info": {
   "codemirror_mode": {
    "name": "ipython",
    "version": 3
   },
   "file_extension": ".py",
   "mimetype": "text/x-python",
   "name": "python",
   "nbconvert_exporter": "python",
   "pygments_lexer": "ipython3",
   "version": "3.10.12"
  }
 },
 "nbformat": 4,
 "nbformat_minor": 2
}
