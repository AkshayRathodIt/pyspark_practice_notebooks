{
 "cells": [
  {
   "cell_type": "code",
   "execution_count": 1,
   "metadata": {},
   "outputs": [
    {
     "name": "stderr",
     "output_type": "stream",
     "text": [
      "24/06/14 17:19:20 WARN Utils: Your hostname, akshay-vm resolves to a loopback address: 127.0.1.1; using 10.0.2.15 instead (on interface enp0s3)\n",
      "24/06/14 17:19:20 WARN Utils: Set SPARK_LOCAL_IP if you need to bind to another address\n",
      "Setting default log level to \"WARN\".\n",
      "To adjust logging level use sc.setLogLevel(newLevel). For SparkR, use setLogLevel(newLevel).\n",
      "24/06/14 17:19:23 WARN NativeCodeLoader: Unable to load native-hadoop library for your platform... using builtin-java classes where applicable\n"
     ]
    }
   ],
   "source": [
    "import findspark\n",
    "findspark.init('/home/akshay/spark-3.5.1-bin-hadoop3')\n",
    "from pyspark.sql import SparkSession\n",
    "spark = SparkSession.builder.appName(\"spark_tutorials_1\").getOrCreate()"
   ]
  },
  {
   "cell_type": "code",
   "execution_count": 2,
   "metadata": {},
   "outputs": [],
   "source": [
    "data = [\n",
    "    (1, 'Alice', 'F', 50000),\n",
    "    (2, 'Bob', 'M', 60000),\n",
    "    (3, 'Charlie', 'M', 55000),\n",
    "    (4, 'David', 'M', 62000),\n",
    "    (5, 'Eve', 'F', 51000),\n",
    "    (6, 'Fiona', 'F', 48000),\n",
    "    (7, 'George', 'M', 59000),\n",
    "    (8, 'Hannah', 'F', 54000),\n",
    "    (9, 'Ian', 'M', 63000),\n",
    "    (10, 'Jane', 'F', 52000),\n",
    "    (11, 'Kevin', 'M', 58000),\n",
    "    (12, 'Lily', 'F', 49000),\n",
    "    (13, 'Mike', 'M', 64000),\n",
    "    (14, 'Nora', 'F', 56000),\n",
    "    (15, 'Oscar', 'M', 67000),\n",
    "    (16, 'Pam', 'F', 53000),\n",
    "    (17, 'Quinn', '', 61000),\n",
    "    (18, 'Rachel', '', 57000),\n",
    "    (19, 'Sam', 'M', 65000),\n",
    "    (20, 'Tina', 'F', 59000)\n",
    "]\n"
   ]
  },
  {
   "cell_type": "code",
   "execution_count": 3,
   "metadata": {},
   "outputs": [],
   "source": [
    "schema = [\"id\",\"name\",\"gender\",\"salary\"]"
   ]
  },
  {
   "cell_type": "code",
   "execution_count": 4,
   "metadata": {},
   "outputs": [],
   "source": [
    "df = spark.createDataFrame(data=data, schema=schema)"
   ]
  },
  {
   "cell_type": "code",
   "execution_count": 5,
   "metadata": {},
   "outputs": [
    {
     "name": "stderr",
     "output_type": "stream",
     "text": [
      "                                                                                \r"
     ]
    },
    {
     "name": "stdout",
     "output_type": "stream",
     "text": [
      "+---+-------+------+------+\n",
      "| id|   name|gender|salary|\n",
      "+---+-------+------+------+\n",
      "|  1|  Alice|     F| 50000|\n",
      "|  2|    Bob|     M| 60000|\n",
      "|  3|Charlie|     M| 55000|\n",
      "|  4|  David|     M| 62000|\n",
      "|  5|    Eve|     F| 51000|\n",
      "|  6|  Fiona|     F| 48000|\n",
      "|  7| George|     M| 59000|\n",
      "|  8| Hannah|     F| 54000|\n",
      "|  9|    Ian|     M| 63000|\n",
      "| 10|   Jane|     F| 52000|\n",
      "| 11|  Kevin|     M| 58000|\n",
      "| 12|   Lily|     F| 49000|\n",
      "| 13|   Mike|     M| 64000|\n",
      "| 14|   Nora|     F| 56000|\n",
      "| 15|  Oscar|     M| 67000|\n",
      "| 16|    Pam|     F| 53000|\n",
      "| 17|  Quinn|      | 61000|\n",
      "| 18| Rachel|      | 57000|\n",
      "| 19|    Sam|     M| 65000|\n",
      "| 20|   Tina|     F| 59000|\n",
      "+---+-------+------+------+\n",
      "\n"
     ]
    }
   ],
   "source": [
    "df.show()"
   ]
  },
  {
   "cell_type": "markdown",
   "metadata": {},
   "source": [
    "alias function"
   ]
  },
  {
   "cell_type": "code",
   "execution_count": 6,
   "metadata": {},
   "outputs": [],
   "source": [
    "from pyspark.sql.functions import col"
   ]
  },
  {
   "cell_type": "code",
   "execution_count": 7,
   "metadata": {},
   "outputs": [],
   "source": [
    "df1 = df.select(col(\"id\").alias(\"emp_id\"), \\\n",
    "                col(\"name\").alias(\"emp_name\"), \\\n",
    "                col(\"gender\").alias(\"emp_gender\"), \\\n",
    "                col(\"salary\").alias(\"emp_salary\"), \\\n",
    "                )"
   ]
  },
  {
   "cell_type": "code",
   "execution_count": 8,
   "metadata": {},
   "outputs": [
    {
     "name": "stdout",
     "output_type": "stream",
     "text": [
      "+------+--------+----------+----------+\n",
      "|emp_id|emp_name|emp_gender|emp_salary|\n",
      "+------+--------+----------+----------+\n",
      "|     1|   Alice|         F|     50000|\n",
      "|     2|     Bob|         M|     60000|\n",
      "|     3| Charlie|         M|     55000|\n",
      "|     4|   David|         M|     62000|\n",
      "|     5|     Eve|         F|     51000|\n",
      "|     6|   Fiona|         F|     48000|\n",
      "|     7|  George|         M|     59000|\n",
      "|     8|  Hannah|         F|     54000|\n",
      "|     9|     Ian|         M|     63000|\n",
      "|    10|    Jane|         F|     52000|\n",
      "|    11|   Kevin|         M|     58000|\n",
      "|    12|    Lily|         F|     49000|\n",
      "|    13|    Mike|         M|     64000|\n",
      "|    14|    Nora|         F|     56000|\n",
      "|    15|   Oscar|         M|     67000|\n",
      "|    16|     Pam|         F|     53000|\n",
      "|    17|   Quinn|          |     61000|\n",
      "|    18|  Rachel|          |     57000|\n",
      "|    19|     Sam|         M|     65000|\n",
      "|    20|    Tina|         F|     59000|\n",
      "+------+--------+----------+----------+\n",
      "\n"
     ]
    }
   ],
   "source": [
    "df1.show()"
   ]
  },
  {
   "cell_type": "markdown",
   "metadata": {},
   "source": [
    "asc and desc function"
   ]
  },
  {
   "cell_type": "code",
   "execution_count": 9,
   "metadata": {},
   "outputs": [
    {
     "name": "stdout",
     "output_type": "stream",
     "text": [
      "+---+-------+------+------+\n",
      "| id|   name|gender|salary|\n",
      "+---+-------+------+------+\n",
      "|  6|  Fiona|     F| 48000|\n",
      "| 12|   Lily|     F| 49000|\n",
      "|  1|  Alice|     F| 50000|\n",
      "|  5|    Eve|     F| 51000|\n",
      "| 10|   Jane|     F| 52000|\n",
      "| 16|    Pam|     F| 53000|\n",
      "|  8| Hannah|     F| 54000|\n",
      "|  3|Charlie|     M| 55000|\n",
      "| 14|   Nora|     F| 56000|\n",
      "| 18| Rachel|      | 57000|\n",
      "| 11|  Kevin|     M| 58000|\n",
      "|  7| George|     M| 59000|\n",
      "| 20|   Tina|     F| 59000|\n",
      "|  2|    Bob|     M| 60000|\n",
      "| 17|  Quinn|      | 61000|\n",
      "|  4|  David|     M| 62000|\n",
      "|  9|    Ian|     M| 63000|\n",
      "| 13|   Mike|     M| 64000|\n",
      "| 19|    Sam|     M| 65000|\n",
      "| 15|  Oscar|     M| 67000|\n",
      "+---+-------+------+------+\n",
      "\n"
     ]
    }
   ],
   "source": [
    "df2 = df.sort(col(\"salary\").asc())\n",
    "df2.show()"
   ]
  },
  {
   "cell_type": "code",
   "execution_count": 10,
   "metadata": {},
   "outputs": [
    {
     "name": "stdout",
     "output_type": "stream",
     "text": [
      "+---+-------+------+------+\n",
      "| id|   name|gender|salary|\n",
      "+---+-------+------+------+\n",
      "| 15|  Oscar|     M| 67000|\n",
      "| 19|    Sam|     M| 65000|\n",
      "| 13|   Mike|     M| 64000|\n",
      "|  9|    Ian|     M| 63000|\n",
      "|  4|  David|     M| 62000|\n",
      "| 17|  Quinn|      | 61000|\n",
      "|  2|    Bob|     M| 60000|\n",
      "|  7| George|     M| 59000|\n",
      "| 20|   Tina|     F| 59000|\n",
      "| 11|  Kevin|     M| 58000|\n",
      "| 18| Rachel|      | 57000|\n",
      "| 14|   Nora|     F| 56000|\n",
      "|  3|Charlie|     M| 55000|\n",
      "|  8| Hannah|     F| 54000|\n",
      "| 16|    Pam|     F| 53000|\n",
      "| 10|   Jane|     F| 52000|\n",
      "|  5|    Eve|     F| 51000|\n",
      "|  1|  Alice|     F| 50000|\n",
      "| 12|   Lily|     F| 49000|\n",
      "|  6|  Fiona|     F| 48000|\n",
      "+---+-------+------+------+\n",
      "\n"
     ]
    }
   ],
   "source": [
    "df3 = df.sort(col(\"salary\").desc())\n",
    "df3.show()"
   ]
  },
  {
   "cell_type": "markdown",
   "metadata": {},
   "source": [
    "cast function"
   ]
  },
  {
   "cell_type": "code",
   "execution_count": 11,
   "metadata": {},
   "outputs": [
    {
     "name": "stdout",
     "output_type": "stream",
     "text": [
      "root\n",
      " |-- id: long (nullable = true)\n",
      " |-- name: string (nullable = true)\n",
      " |-- gender: string (nullable = true)\n",
      " |-- salary: long (nullable = true)\n",
      "\n"
     ]
    }
   ],
   "source": [
    "df.printSchema()"
   ]
  },
  {
   "cell_type": "code",
   "execution_count": 12,
   "metadata": {},
   "outputs": [
    {
     "name": "stdout",
     "output_type": "stream",
     "text": [
      "root\n",
      " |-- id: integer (nullable = true)\n",
      " |-- name: string (nullable = true)\n",
      " |-- gender: string (nullable = true)\n",
      " |-- salary: long (nullable = true)\n",
      "\n"
     ]
    }
   ],
   "source": [
    "df4 = df.select(col(\"id\").cast(\"int\"), col(\"name\"), col(\"gender\"), col(\"salary\"))\n",
    "df4.printSchema()"
   ]
  },
  {
   "cell_type": "code",
   "execution_count": 13,
   "metadata": {},
   "outputs": [],
   "source": [
    "from pyspark.sql.types import LongType"
   ]
  },
  {
   "cell_type": "code",
   "execution_count": 14,
   "metadata": {},
   "outputs": [
    {
     "name": "stdout",
     "output_type": "stream",
     "text": [
      "root\n",
      " |-- id: long (nullable = true)\n",
      " |-- name: string (nullable = true)\n",
      " |-- gender: string (nullable = true)\n",
      " |-- salary: long (nullable = true)\n",
      "\n"
     ]
    }
   ],
   "source": [
    "df4 = df.select(col(\"id\").cast(LongType()), col(\"name\"), col(\"gender\"), col(\"salary\"))\n",
    "df4.printSchema()"
   ]
  },
  {
   "cell_type": "markdown",
   "metadata": {},
   "source": [
    "like function"
   ]
  },
  {
   "cell_type": "code",
   "execution_count": 20,
   "metadata": {},
   "outputs": [
    {
     "name": "stdout",
     "output_type": "stream",
     "text": [
      "+---+----+------+------+\n",
      "| id|name|gender|salary|\n",
      "+---+----+------+------+\n",
      "| 13|Mike|     M| 64000|\n",
      "+---+----+------+------+\n",
      "\n"
     ]
    }
   ],
   "source": [
    "df5 = df.filter(col(\"name\").like(\"M%\"))\n",
    "df5.show()"
   ]
  },
  {
   "cell_type": "code",
   "execution_count": null,
   "metadata": {},
   "outputs": [],
   "source": []
  }
 ],
 "metadata": {
  "kernelspec": {
   "display_name": "Python 3",
   "language": "python",
   "name": "python3"
  },
  "language_info": {
   "codemirror_mode": {
    "name": "ipython",
    "version": 3
   },
   "file_extension": ".py",
   "mimetype": "text/x-python",
   "name": "python",
   "nbconvert_exporter": "python",
   "pygments_lexer": "ipython3",
   "version": "3.10.12"
  }
 },
 "nbformat": 4,
 "nbformat_minor": 2
}
