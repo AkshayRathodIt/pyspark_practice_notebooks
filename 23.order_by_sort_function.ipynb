{
 "cells": [
  {
   "cell_type": "code",
   "execution_count": 1,
   "metadata": {},
   "outputs": [
    {
     "name": "stderr",
     "output_type": "stream",
     "text": [
      "24/06/14 18:35:05 WARN Utils: Your hostname, akshay-vm resolves to a loopback address: 127.0.1.1; using 10.0.2.15 instead (on interface enp0s3)\n",
      "24/06/14 18:35:05 WARN Utils: Set SPARK_LOCAL_IP if you need to bind to another address\n",
      "Setting default log level to \"WARN\".\n",
      "To adjust logging level use sc.setLogLevel(newLevel). For SparkR, use setLogLevel(newLevel).\n",
      "24/06/14 18:35:06 WARN NativeCodeLoader: Unable to load native-hadoop library for your platform... using builtin-java classes where applicable\n",
      "24/06/14 18:35:08 WARN Utils: Service 'SparkUI' could not bind on port 4040. Attempting port 4041.\n"
     ]
    }
   ],
   "source": [
    "import findspark\n",
    "findspark.init('/home/akshay/spark-3.5.1-bin-hadoop3')\n",
    "from pyspark.sql import SparkSession\n",
    "spark = SparkSession.builder.appName(\"spark_tutorials_1\").getOrCreate()"
   ]
  },
  {
   "cell_type": "code",
   "execution_count": 2,
   "metadata": {},
   "outputs": [],
   "source": [
    "data_with_dept = [\n",
    "    (1, 'Alice', 'Female', 50000, 'HR'),\n",
    "    (2, 'Bob', 'Male', 60000, 'Finance'),\n",
    "    (3, 'Charlie', 'Male', 55000, 'IT'),\n",
    "    (4, 'David', 'Male', 70000, 'HR'),\n",
    "    (5, 'Eve', 'Female', 48000, 'Finance'),\n",
    "    (6, 'Frank', 'Male', 62000, 'IT'),\n",
    "    (7, 'Grace', 'Female', 53000, 'HR'),\n",
    "    (8, 'Helen', 'Female', 51000, 'IT'),\n",
    "    (9, 'Ivy', 'Female', 52000, 'Finance'),\n",
    "    (10, 'Jack', 'Male', 58000, 'HR'),\n",
    "    (11, 'Alice', 'Female', 50000, 'IT'),  # Duplicate entry\n",
    "    (12, 'Bob', 'Male', 60000, 'Finance'),  # Duplicate entry\n",
    "]"
   ]
  },
  {
   "cell_type": "code",
   "execution_count": 3,
   "metadata": {},
   "outputs": [],
   "source": [
    "schema = [\"id\", \"name\", \"gender\",\"salary\",\"dept\"]"
   ]
  },
  {
   "cell_type": "code",
   "execution_count": 4,
   "metadata": {},
   "outputs": [],
   "source": [
    "df = spark.createDataFrame(data=data_with_dept, schema=schema)"
   ]
  },
  {
   "cell_type": "code",
   "execution_count": 5,
   "metadata": {},
   "outputs": [
    {
     "name": "stderr",
     "output_type": "stream",
     "text": [
      "                                                                                \r"
     ]
    },
    {
     "name": "stdout",
     "output_type": "stream",
     "text": [
      "+---+-------+------+------+-------+\n",
      "| id|   name|gender|salary|   dept|\n",
      "+---+-------+------+------+-------+\n",
      "|  1|  Alice|Female| 50000|     HR|\n",
      "|  2|    Bob|  Male| 60000|Finance|\n",
      "|  3|Charlie|  Male| 55000|     IT|\n",
      "|  4|  David|  Male| 70000|     HR|\n",
      "|  5|    Eve|Female| 48000|Finance|\n",
      "|  6|  Frank|  Male| 62000|     IT|\n",
      "|  7|  Grace|Female| 53000|     HR|\n",
      "|  8|  Helen|Female| 51000|     IT|\n",
      "|  9|    Ivy|Female| 52000|Finance|\n",
      "| 10|   Jack|  Male| 58000|     HR|\n",
      "| 11|  Alice|Female| 50000|     IT|\n",
      "| 12|    Bob|  Male| 60000|Finance|\n",
      "+---+-------+------+------+-------+\n",
      "\n"
     ]
    }
   ],
   "source": [
    "df.show()"
   ]
  },
  {
   "cell_type": "code",
   "execution_count": 6,
   "metadata": {},
   "outputs": [],
   "source": [
    "from pyspark.sql.functions import col"
   ]
  },
  {
   "cell_type": "code",
   "execution_count": 7,
   "metadata": {},
   "outputs": [
    {
     "name": "stderr",
     "output_type": "stream",
     "text": [
      "[Stage 2:>                                                          (0 + 4) / 4]\r"
     ]
    },
    {
     "name": "stdout",
     "output_type": "stream",
     "text": [
      "+---+-------+------+------+-------+\n",
      "| id|   name|gender|salary|   dept|\n",
      "+---+-------+------+------+-------+\n",
      "| 12|    Bob|  Male| 60000|Finance|\n",
      "|  5|    Eve|Female| 48000|Finance|\n",
      "|  2|    Bob|  Male| 60000|Finance|\n",
      "|  9|    Ivy|Female| 52000|Finance|\n",
      "|  4|  David|  Male| 70000|     HR|\n",
      "|  1|  Alice|Female| 50000|     HR|\n",
      "| 10|   Jack|  Male| 58000|     HR|\n",
      "|  7|  Grace|Female| 53000|     HR|\n",
      "|  6|  Frank|  Male| 62000|     IT|\n",
      "|  3|Charlie|  Male| 55000|     IT|\n",
      "| 11|  Alice|Female| 50000|     IT|\n",
      "|  8|  Helen|Female| 51000|     IT|\n",
      "+---+-------+------+------+-------+\n",
      "\n"
     ]
    },
    {
     "name": "stderr",
     "output_type": "stream",
     "text": [
      "                                                                                \r"
     ]
    }
   ],
   "source": [
    "df1 = df.sort(col(\"dept\").asc())\n",
    "df1.show()"
   ]
  },
  {
   "cell_type": "code",
   "execution_count": 10,
   "metadata": {},
   "outputs": [
    {
     "name": "stderr",
     "output_type": "stream",
     "text": [
      "                                                                                \r"
     ]
    },
    {
     "name": "stdout",
     "output_type": "stream",
     "text": [
      "+---+-------+------+------+-------+\n",
      "| id|   name|gender|salary|   dept|\n",
      "+---+-------+------+------+-------+\n",
      "| 12|    Bob|  Male| 60000|Finance|\n",
      "|  9|    Ivy|Female| 52000|Finance|\n",
      "|  5|    Eve|Female| 48000|Finance|\n",
      "|  2|    Bob|  Male| 60000|Finance|\n",
      "|  7|  Grace|Female| 53000|     HR|\n",
      "|  4|  David|  Male| 70000|     HR|\n",
      "| 10|   Jack|  Male| 58000|     HR|\n",
      "|  1|  Alice|Female| 50000|     HR|\n",
      "|  8|  Helen|Female| 51000|     IT|\n",
      "|  6|  Frank|  Male| 62000|     IT|\n",
      "| 11|  Alice|Female| 50000|     IT|\n",
      "|  3|Charlie|  Male| 55000|     IT|\n",
      "+---+-------+------+------+-------+\n",
      "\n"
     ]
    }
   ],
   "source": [
    "df1 = df.orderBy(col(\"dept\").asc())\n",
    "df1.show()"
   ]
  },
  {
   "cell_type": "code",
   "execution_count": 12,
   "metadata": {},
   "outputs": [
    {
     "name": "stdout",
     "output_type": "stream",
     "text": [
      "+---+-------+------+------+-------+\n",
      "| id|   name|gender|salary|   dept|\n",
      "+---+-------+------+------+-------+\n",
      "|  2|    Bob|  Male| 60000|Finance|\n",
      "|  5|    Eve|Female| 48000|Finance|\n",
      "|  9|    Ivy|Female| 52000|Finance|\n",
      "| 12|    Bob|  Male| 60000|Finance|\n",
      "|  1|  Alice|Female| 50000|     HR|\n",
      "|  4|  David|  Male| 70000|     HR|\n",
      "|  7|  Grace|Female| 53000|     HR|\n",
      "| 10|   Jack|  Male| 58000|     HR|\n",
      "|  3|Charlie|  Male| 55000|     IT|\n",
      "|  6|  Frank|  Male| 62000|     IT|\n",
      "|  8|  Helen|Female| 51000|     IT|\n",
      "| 11|  Alice|Female| 50000|     IT|\n",
      "+---+-------+------+------+-------+\n",
      "\n"
     ]
    }
   ],
   "source": [
    "df2 = df.sort(col(\"dept\").asc(), col(\"id\").asc())\n",
    "df2.show()"
   ]
  },
  {
   "cell_type": "code",
   "execution_count": null,
   "metadata": {},
   "outputs": [],
   "source": []
  }
 ],
 "metadata": {
  "kernelspec": {
   "display_name": "Python 3",
   "language": "python",
   "name": "python3"
  },
  "language_info": {
   "codemirror_mode": {
    "name": "ipython",
    "version": 3
   },
   "file_extension": ".py",
   "mimetype": "text/x-python",
   "name": "python",
   "nbconvert_exporter": "python",
   "pygments_lexer": "ipython3",
   "version": "3.10.12"
  }
 },
 "nbformat": 4,
 "nbformat_minor": 2
}
