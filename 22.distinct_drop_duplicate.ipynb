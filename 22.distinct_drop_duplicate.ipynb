{
 "cells": [
  {
   "cell_type": "code",
   "execution_count": 7,
   "metadata": {},
   "outputs": [],
   "source": [
    "import findspark\n",
    "findspark.init('/home/akshay/spark-3.5.1-bin-hadoop3')\n",
    "from pyspark.sql import SparkSession\n",
    "spark = SparkSession.builder.appName(\"spark_tutorials_1\").getOrCreate()"
   ]
  },
  {
   "cell_type": "code",
   "execution_count": null,
   "metadata": {},
   "outputs": [],
   "source": []
  },
  {
   "cell_type": "code",
   "execution_count": 8,
   "metadata": {},
   "outputs": [],
   "source": [
    "data = [\n",
    "    (1, 'Alice', 'Female', 50000),\n",
    "    (1, 'Alice', 'Female', 50000),\n",
    "    (2, 'Bob', 'Male', 60000),\n",
    "    (2, 'Bob', 'Male', 60000),\n",
    "    (3, 'Charlie', 'Male', 55000),\n",
    "    (4, 'David', 'Male', 70000),\n",
    "    (5, 'Eve', 'Female', 48000),\n",
    "    (6, 'Frank', 'Male', 62000),\n",
    "    (7, 'Grace', 'Female', 53000),\n",
    "    (8, 'Helen', 'Female', 51000),\n",
    "    (9, 'Ivy', 'Female', 52000),\n",
    "    (10, 'Jack', 'Male', 58000),\n",
    "    (11, 'Alice', 'Female', 50000),  # Duplicate entry\n",
    "    (12, 'Bob', 'Male', 60000),       # Duplicate entry\n",
    "]"
   ]
  },
  {
   "cell_type": "code",
   "execution_count": 9,
   "metadata": {},
   "outputs": [],
   "source": [
    "schema = [\"id\", \"name\", \"gender\", \"salary\"]"
   ]
  },
  {
   "cell_type": "code",
   "execution_count": 10,
   "metadata": {},
   "outputs": [],
   "source": [
    "df = spark.createDataFrame(data=data, schema=schema)"
   ]
  },
  {
   "cell_type": "code",
   "execution_count": 13,
   "metadata": {},
   "outputs": [
    {
     "name": "stdout",
     "output_type": "stream",
     "text": [
      "+---+-------+------+------+\n",
      "| id|   name|gender|salary|\n",
      "+---+-------+------+------+\n",
      "|  1|  Alice|Female| 50000|\n",
      "|  1|  Alice|Female| 50000|\n",
      "|  2|    Bob|  Male| 60000|\n",
      "|  2|    Bob|  Male| 60000|\n",
      "|  3|Charlie|  Male| 55000|\n",
      "|  4|  David|  Male| 70000|\n",
      "|  5|    Eve|Female| 48000|\n",
      "|  6|  Frank|  Male| 62000|\n",
      "|  7|  Grace|Female| 53000|\n",
      "|  8|  Helen|Female| 51000|\n",
      "|  9|    Ivy|Female| 52000|\n",
      "| 10|   Jack|  Male| 58000|\n",
      "| 11|  Alice|Female| 50000|\n",
      "| 12|    Bob|  Male| 60000|\n",
      "+---+-------+------+------+\n",
      "\n",
      "14\n"
     ]
    }
   ],
   "source": [
    "df.show()\n",
    "print(df.count())"
   ]
  },
  {
   "cell_type": "code",
   "execution_count": 14,
   "metadata": {},
   "outputs": [
    {
     "name": "stdout",
     "output_type": "stream",
     "text": [
      "Distinct rows:\n",
      "+---+-------+------+------+\n",
      "| id|   name|gender|salary|\n",
      "+---+-------+------+------+\n",
      "|  1|  Alice|Female| 50000|\n",
      "|  2|    Bob|  Male| 60000|\n",
      "|  4|  David|  Male| 70000|\n",
      "|  3|Charlie|  Male| 55000|\n",
      "|  5|    Eve|Female| 48000|\n",
      "|  6|  Frank|  Male| 62000|\n",
      "|  7|  Grace|Female| 53000|\n",
      "| 10|   Jack|  Male| 58000|\n",
      "| 11|  Alice|Female| 50000|\n",
      "| 12|    Bob|  Male| 60000|\n",
      "|  9|    Ivy|Female| 52000|\n",
      "|  8|  Helen|Female| 51000|\n",
      "+---+-------+------+------+\n",
      "\n",
      "12\n"
     ]
    }
   ],
   "source": [
    "unique_df = df.distinct()\n",
    "print(\"Distinct rows:\")\n",
    "unique_df.show()\n",
    "print(unique_df.count())"
   ]
  },
  {
   "cell_type": "code",
   "execution_count": 15,
   "metadata": {},
   "outputs": [
    {
     "name": "stdout",
     "output_type": "stream",
     "text": [
      "Rows after dropping duplicates based on 'name' and 'gender':\n",
      "+---+-------+------+------+\n",
      "| id|   name|gender|salary|\n",
      "+---+-------+------+------+\n",
      "|  1|  Alice|Female| 50000|\n",
      "|  2|    Bob|  Male| 60000|\n",
      "|  4|  David|  Male| 70000|\n",
      "|  3|Charlie|  Male| 55000|\n",
      "|  6|  Frank|  Male| 62000|\n",
      "|  5|    Eve|Female| 48000|\n",
      "|  7|  Grace|Female| 53000|\n",
      "|  8|  Helen|Female| 51000|\n",
      "|  9|    Ivy|Female| 52000|\n",
      "| 10|   Jack|  Male| 58000|\n",
      "+---+-------+------+------+\n",
      "\n",
      "10\n"
     ]
    }
   ],
   "source": [
    "drop_duplicates_df = df.dropDuplicates([\"name\", \"gender\"])\n",
    "print(\"Rows after dropping duplicates based on 'name' and 'gender':\")\n",
    "drop_duplicates_df.show()\n",
    "print(drop_duplicates_df.count())"
   ]
  },
  {
   "cell_type": "code",
   "execution_count": null,
   "metadata": {},
   "outputs": [],
   "source": []
  }
 ],
 "metadata": {
  "kernelspec": {
   "display_name": "Python 3",
   "language": "python",
   "name": "python3"
  },
  "language_info": {
   "codemirror_mode": {
    "name": "ipython",
    "version": 3
   },
   "file_extension": ".py",
   "mimetype": "text/x-python",
   "name": "python",
   "nbconvert_exporter": "python",
   "pygments_lexer": "ipython3",
   "version": "3.10.12"
  }
 },
 "nbformat": 4,
 "nbformat_minor": 2
}
