{
 "cells": [
  {
   "cell_type": "code",
   "execution_count": 1,
   "metadata": {},
   "outputs": [
    {
     "name": "stderr",
     "output_type": "stream",
     "text": [
      "24/06/13 13:05:43 WARN Utils: Your hostname, akshay-vm resolves to a loopback address: 127.0.1.1; using 10.0.2.15 instead (on interface enp0s3)\n",
      "24/06/13 13:05:43 WARN Utils: Set SPARK_LOCAL_IP if you need to bind to another address\n",
      "Setting default log level to \"WARN\".\n",
      "To adjust logging level use sc.setLogLevel(newLevel). For SparkR, use setLogLevel(newLevel).\n",
      "24/06/13 13:05:44 WARN NativeCodeLoader: Unable to load native-hadoop library for your platform... using builtin-java classes where applicable\n"
     ]
    }
   ],
   "source": [
    "import findspark\n",
    "findspark.init('/home/akshay/spark-3.5.1-bin-hadoop3')\n",
    "from pyspark.sql import SparkSession\n",
    "spark = SparkSession.builder.appName(\"spark_tutorials_1\").getOrCreate()"
   ]
  },
  {
   "cell_type": "markdown",
   "metadata": {},
   "source": [
    "explode function"
   ]
  },
  {
   "cell_type": "code",
   "execution_count": 2,
   "metadata": {},
   "outputs": [],
   "source": [
    "data = [\n",
    "    [1, 'John', ['Python', 'Java']],\n",
    "    [2, 'Alice', ['C++', 'SQL', 'JavaScript']],\n",
    "    [3, 'Bob', ['Python', 'Java', 'SQL']],\n",
    "    [4, 'Charlie', ['Python', 'JavaScript']],\n",
    "    [5, 'David', ['Java', 'C++']],\n",
    "    [6, 'Emily', ['Python', 'JavaScript', 'SQL']],\n",
    "    [7, 'Frank', ['Python', 'Java', 'C++']],\n",
    "    [8, 'Grace', ['JavaScript']],\n",
    "    [9, 'Hannah', ['Python', 'SQL']],\n",
    "    [10, 'Ian', ['Java', 'C++']]\n",
    "]"
   ]
  },
  {
   "cell_type": "code",
   "execution_count": 3,
   "metadata": {},
   "outputs": [],
   "source": [
    "from pyspark.sql.types import StructType, StructField, StringType, ArrayType, IntegerType"
   ]
  },
  {
   "cell_type": "code",
   "execution_count": 4,
   "metadata": {},
   "outputs": [],
   "source": [
    "schema = StructType([\\\n",
    "                        StructField(\"id\", IntegerType()), \\\n",
    "                        StructField(\"name\", StringType()), \\\n",
    "                        StructField(\"skills\", ArrayType(StringType())) \\\n",
    "                    ])"
   ]
  },
  {
   "cell_type": "code",
   "execution_count": 5,
   "metadata": {},
   "outputs": [
    {
     "name": "stderr",
     "output_type": "stream",
     "text": [
      "                                                                                \r"
     ]
    },
    {
     "name": "stdout",
     "output_type": "stream",
     "text": [
      "+---+-------+--------------------+\n",
      "| id|   name|              skills|\n",
      "+---+-------+--------------------+\n",
      "|  1|   John|      [Python, Java]|\n",
      "|  2|  Alice|[C++, SQL, JavaSc...|\n",
      "|  3|    Bob| [Python, Java, SQL]|\n",
      "|  4|Charlie|[Python, JavaScript]|\n",
      "|  5|  David|         [Java, C++]|\n",
      "|  6|  Emily|[Python, JavaScri...|\n",
      "|  7|  Frank| [Python, Java, C++]|\n",
      "|  8|  Grace|        [JavaScript]|\n",
      "|  9| Hannah|       [Python, SQL]|\n",
      "| 10|    Ian|         [Java, C++]|\n",
      "+---+-------+--------------------+\n",
      "\n",
      "root\n",
      " |-- id: integer (nullable = true)\n",
      " |-- name: string (nullable = true)\n",
      " |-- skills: array (nullable = true)\n",
      " |    |-- element: string (containsNull = true)\n",
      "\n"
     ]
    }
   ],
   "source": [
    "df = spark.createDataFrame(data=data, schema=schema)\n",
    "df.show()\n",
    "df.printSchema()"
   ]
  },
  {
   "cell_type": "code",
   "execution_count": 6,
   "metadata": {},
   "outputs": [],
   "source": [
    "from pyspark.sql.functions import col, explode"
   ]
  },
  {
   "cell_type": "code",
   "execution_count": 7,
   "metadata": {},
   "outputs": [
    {
     "name": "stdout",
     "output_type": "stream",
     "text": [
      "+---+-------+--------------------+----------+\n",
      "| id|   name|              skills|     skill|\n",
      "+---+-------+--------------------+----------+\n",
      "|  1|   John|      [Python, Java]|    Python|\n",
      "|  1|   John|      [Python, Java]|      Java|\n",
      "|  2|  Alice|[C++, SQL, JavaSc...|       C++|\n",
      "|  2|  Alice|[C++, SQL, JavaSc...|       SQL|\n",
      "|  2|  Alice|[C++, SQL, JavaSc...|JavaScript|\n",
      "|  3|    Bob| [Python, Java, SQL]|    Python|\n",
      "|  3|    Bob| [Python, Java, SQL]|      Java|\n",
      "|  3|    Bob| [Python, Java, SQL]|       SQL|\n",
      "|  4|Charlie|[Python, JavaScript]|    Python|\n",
      "|  4|Charlie|[Python, JavaScript]|JavaScript|\n",
      "|  5|  David|         [Java, C++]|      Java|\n",
      "|  5|  David|         [Java, C++]|       C++|\n",
      "|  6|  Emily|[Python, JavaScri...|    Python|\n",
      "|  6|  Emily|[Python, JavaScri...|JavaScript|\n",
      "|  6|  Emily|[Python, JavaScri...|       SQL|\n",
      "|  7|  Frank| [Python, Java, C++]|    Python|\n",
      "|  7|  Frank| [Python, Java, C++]|      Java|\n",
      "|  7|  Frank| [Python, Java, C++]|       C++|\n",
      "|  8|  Grace|        [JavaScript]|JavaScript|\n",
      "|  9| Hannah|       [Python, SQL]|    Python|\n",
      "+---+-------+--------------------+----------+\n",
      "only showing top 20 rows\n",
      "\n"
     ]
    }
   ],
   "source": [
    "df1 = df.withColumn(\"skill\", explode(col(\"skills\")))\n",
    "df1.show(n=20)"
   ]
  },
  {
   "cell_type": "markdown",
   "metadata": {},
   "source": [
    "split function"
   ]
  },
  {
   "cell_type": "code",
   "execution_count": 8,
   "metadata": {},
   "outputs": [],
   "source": [
    "data = [\n",
    "    [1, 'John', 'Python,Java'],\n",
    "    [2, 'Alice', 'C++,SQL,JavaScript'],\n",
    "    [3, 'Bob', 'Python,Java,SQL'],\n",
    "    [4, 'Charlie', 'Python,JavaScript'],\n",
    "    [5, 'David', 'Java,C++'],\n",
    "    [6, 'Emily', 'Python,JavaScript,SQL'],\n",
    "    [7, 'Frank', 'Python,Java,C++'],\n",
    "    [8, 'Grace', 'JavaScript'],\n",
    "    [9, 'Hannah', 'Python,SQL'],\n",
    "    [10, 'Ian', 'Java,C++']\n",
    "]"
   ]
  },
  {
   "cell_type": "code",
   "execution_count": 9,
   "metadata": {},
   "outputs": [],
   "source": [
    "schema = StructType([\\\n",
    "                        StructField(\"id\", IntegerType()), \\\n",
    "                        StructField(\"name\", StringType()), \\\n",
    "                        StructField(\"skills\", StringType()) \\\n",
    "                    ])"
   ]
  },
  {
   "cell_type": "code",
   "execution_count": 10,
   "metadata": {},
   "outputs": [],
   "source": [
    "df = spark.createDataFrame(data=data, schema=schema)"
   ]
  },
  {
   "cell_type": "code",
   "execution_count": 11,
   "metadata": {},
   "outputs": [
    {
     "name": "stdout",
     "output_type": "stream",
     "text": [
      "+---+-------+--------------------+\n",
      "| id|   name|              skills|\n",
      "+---+-------+--------------------+\n",
      "|  1|   John|         Python,Java|\n",
      "|  2|  Alice|  C++,SQL,JavaScript|\n",
      "|  3|    Bob|     Python,Java,SQL|\n",
      "|  4|Charlie|   Python,JavaScript|\n",
      "|  5|  David|            Java,C++|\n",
      "|  6|  Emily|Python,JavaScript...|\n",
      "|  7|  Frank|     Python,Java,C++|\n",
      "|  8|  Grace|          JavaScript|\n",
      "|  9| Hannah|          Python,SQL|\n",
      "| 10|    Ian|            Java,C++|\n",
      "+---+-------+--------------------+\n",
      "\n"
     ]
    }
   ],
   "source": [
    "df.show()"
   ]
  },
  {
   "cell_type": "code",
   "execution_count": 12,
   "metadata": {},
   "outputs": [],
   "source": [
    "from pyspark.sql.functions import split"
   ]
  },
  {
   "cell_type": "code",
   "execution_count": 13,
   "metadata": {},
   "outputs": [],
   "source": [
    "df1 = df.withColumn(\"skillsArray\",split(col(\"skills\"), \",\"))"
   ]
  },
  {
   "cell_type": "code",
   "execution_count": 14,
   "metadata": {},
   "outputs": [
    {
     "name": "stdout",
     "output_type": "stream",
     "text": [
      "+---+-------+--------------------+--------------------+\n",
      "| id|   name|              skills|         skillsArray|\n",
      "+---+-------+--------------------+--------------------+\n",
      "|  1|   John|         Python,Java|      [Python, Java]|\n",
      "|  2|  Alice|  C++,SQL,JavaScript|[C++, SQL, JavaSc...|\n",
      "|  3|    Bob|     Python,Java,SQL| [Python, Java, SQL]|\n",
      "|  4|Charlie|   Python,JavaScript|[Python, JavaScript]|\n",
      "|  5|  David|            Java,C++|         [Java, C++]|\n",
      "|  6|  Emily|Python,JavaScript...|[Python, JavaScri...|\n",
      "|  7|  Frank|     Python,Java,C++| [Python, Java, C++]|\n",
      "|  8|  Grace|          JavaScript|        [JavaScript]|\n",
      "|  9| Hannah|          Python,SQL|       [Python, SQL]|\n",
      "| 10|    Ian|            Java,C++|         [Java, C++]|\n",
      "+---+-------+--------------------+--------------------+\n",
      "\n"
     ]
    }
   ],
   "source": [
    "df1.show()"
   ]
  },
  {
   "cell_type": "code",
   "execution_count": 15,
   "metadata": {},
   "outputs": [
    {
     "name": "stdout",
     "output_type": "stream",
     "text": [
      "root\n",
      " |-- id: integer (nullable = true)\n",
      " |-- name: string (nullable = true)\n",
      " |-- skills: string (nullable = true)\n",
      " |-- skillsArray: array (nullable = true)\n",
      " |    |-- element: string (containsNull = false)\n",
      "\n"
     ]
    }
   ],
   "source": [
    "df1.printSchema()"
   ]
  },
  {
   "cell_type": "markdown",
   "metadata": {},
   "source": [
    "array function"
   ]
  },
  {
   "cell_type": "code",
   "execution_count": 16,
   "metadata": {},
   "outputs": [],
   "source": [
    "data = [\n",
    "    [1, 'John', 'Python', 'Java'],\n",
    "    [2, 'Alice', 'C++', 'SQL'],\n",
    "    [3, 'Bob', 'Python', 'Java'],\n",
    "    [4, 'Charlie', 'Python', 'JavaScript'],\n",
    "    [5, 'David', 'Java', 'C++'],\n",
    "    [6, 'Emily', 'Python', 'JavaScript'],\n",
    "    [7, 'Frank', 'Python', 'Java'],\n",
    "    [8, 'Grace', 'JavaScript', 'Python'],\n",
    "    [9, 'Hannah', 'Python', 'SQL'],\n",
    "    [10, 'Ian', 'Java', 'C++']\n",
    "]"
   ]
  },
  {
   "cell_type": "code",
   "execution_count": 17,
   "metadata": {},
   "outputs": [],
   "source": [
    "schema = [\"id\", \"name\",\"primarySkill\", \"secondaryskill\"]"
   ]
  },
  {
   "cell_type": "code",
   "execution_count": 18,
   "metadata": {},
   "outputs": [],
   "source": [
    "df = spark.createDataFrame(data=data, schema=schema)"
   ]
  },
  {
   "cell_type": "code",
   "execution_count": 19,
   "metadata": {},
   "outputs": [
    {
     "name": "stdout",
     "output_type": "stream",
     "text": [
      "+---+-------+------------+--------------+\n",
      "| id|   name|primarySkill|secondaryskill|\n",
      "+---+-------+------------+--------------+\n",
      "|  1|   John|      Python|          Java|\n",
      "|  2|  Alice|         C++|           SQL|\n",
      "|  3|    Bob|      Python|          Java|\n",
      "|  4|Charlie|      Python|    JavaScript|\n",
      "|  5|  David|        Java|           C++|\n",
      "|  6|  Emily|      Python|    JavaScript|\n",
      "|  7|  Frank|      Python|          Java|\n",
      "|  8|  Grace|  JavaScript|        Python|\n",
      "|  9| Hannah|      Python|           SQL|\n",
      "| 10|    Ian|        Java|           C++|\n",
      "+---+-------+------------+--------------+\n",
      "\n"
     ]
    }
   ],
   "source": [
    "df.show()"
   ]
  },
  {
   "cell_type": "code",
   "execution_count": 20,
   "metadata": {},
   "outputs": [],
   "source": [
    "from pyspark.sql.functions import array"
   ]
  },
  {
   "cell_type": "code",
   "execution_count": 21,
   "metadata": {},
   "outputs": [],
   "source": [
    "df1 = df.withColumn(\"arrayskills\", array(col(\"primarySkill\"), col(\"secondaryskill\")))"
   ]
  },
  {
   "cell_type": "code",
   "execution_count": 22,
   "metadata": {},
   "outputs": [
    {
     "name": "stdout",
     "output_type": "stream",
     "text": [
      "+---+-------+------------+--------------+--------------------+\n",
      "| id|   name|primarySkill|secondaryskill|         arrayskills|\n",
      "+---+-------+------------+--------------+--------------------+\n",
      "|  1|   John|      Python|          Java|      [Python, Java]|\n",
      "|  2|  Alice|         C++|           SQL|          [C++, SQL]|\n",
      "|  3|    Bob|      Python|          Java|      [Python, Java]|\n",
      "|  4|Charlie|      Python|    JavaScript|[Python, JavaScript]|\n",
      "|  5|  David|        Java|           C++|         [Java, C++]|\n",
      "|  6|  Emily|      Python|    JavaScript|[Python, JavaScript]|\n",
      "|  7|  Frank|      Python|          Java|      [Python, Java]|\n",
      "|  8|  Grace|  JavaScript|        Python|[JavaScript, Python]|\n",
      "|  9| Hannah|      Python|           SQL|       [Python, SQL]|\n",
      "| 10|    Ian|        Java|           C++|         [Java, C++]|\n",
      "+---+-------+------------+--------------+--------------------+\n",
      "\n"
     ]
    }
   ],
   "source": [
    "df1.show()"
   ]
  },
  {
   "cell_type": "code",
   "execution_count": 23,
   "metadata": {},
   "outputs": [
    {
     "name": "stdout",
     "output_type": "stream",
     "text": [
      "root\n",
      " |-- id: long (nullable = true)\n",
      " |-- name: string (nullable = true)\n",
      " |-- primarySkill: string (nullable = true)\n",
      " |-- secondaryskill: string (nullable = true)\n",
      " |-- arrayskills: array (nullable = false)\n",
      " |    |-- element: string (containsNull = true)\n",
      "\n"
     ]
    }
   ],
   "source": [
    "df1.printSchema()"
   ]
  },
  {
   "cell_type": "markdown",
   "metadata": {},
   "source": [
    "array_contains function"
   ]
  },
  {
   "cell_type": "code",
   "execution_count": 24,
   "metadata": {},
   "outputs": [],
   "source": [
    "data = [\n",
    "    [1, 'John', ['Python', 'Java']],\n",
    "    [2, 'Alice', ['C++', 'SQL', 'JavaScript']],\n",
    "    [3, 'Bob', ['Python', 'Java', 'SQL']],\n",
    "    [4, 'Charlie', ['Python', 'JavaScript']],\n",
    "    [5, 'David', ['Java', 'C++']],\n",
    "    [6, 'Emily', ['Python', 'JavaScript', 'SQL']],\n",
    "    [7, 'Frank', ['Python', 'Java', 'C++']],\n",
    "    [8, 'Grace', ['JavaScript']],\n",
    "    [9, 'Hannah', ['Python', 'SQL']],\n",
    "    [10, 'Ian', ['Java', 'C++']]\n",
    "]"
   ]
  },
  {
   "cell_type": "code",
   "execution_count": 25,
   "metadata": {},
   "outputs": [],
   "source": [
    "schema = StructType([\\\n",
    "                        StructField(\"id\", IntegerType()), \\\n",
    "                        StructField(\"name\", StringType()), \\\n",
    "                        StructField(\"skills\", ArrayType(StringType())) \\\n",
    "                    ])"
   ]
  },
  {
   "cell_type": "code",
   "execution_count": 26,
   "metadata": {},
   "outputs": [
    {
     "name": "stdout",
     "output_type": "stream",
     "text": [
      "+---+-------+--------------------+\n",
      "| id|   name|              skills|\n",
      "+---+-------+--------------------+\n",
      "|  1|   John|      [Python, Java]|\n",
      "|  2|  Alice|[C++, SQL, JavaSc...|\n",
      "|  3|    Bob| [Python, Java, SQL]|\n",
      "|  4|Charlie|[Python, JavaScript]|\n",
      "|  5|  David|         [Java, C++]|\n",
      "|  6|  Emily|[Python, JavaScri...|\n",
      "|  7|  Frank| [Python, Java, C++]|\n",
      "|  8|  Grace|        [JavaScript]|\n",
      "|  9| Hannah|       [Python, SQL]|\n",
      "| 10|    Ian|         [Java, C++]|\n",
      "+---+-------+--------------------+\n",
      "\n",
      "root\n",
      " |-- id: integer (nullable = true)\n",
      " |-- name: string (nullable = true)\n",
      " |-- skills: array (nullable = true)\n",
      " |    |-- element: string (containsNull = true)\n",
      "\n"
     ]
    }
   ],
   "source": [
    "df = spark.createDataFrame(data=data, schema=schema)\n",
    "df.show()\n",
    "df.printSchema()"
   ]
  },
  {
   "cell_type": "code",
   "execution_count": 27,
   "metadata": {},
   "outputs": [],
   "source": [
    "from pyspark.sql.functions import array_contains"
   ]
  },
  {
   "cell_type": "code",
   "execution_count": 28,
   "metadata": {},
   "outputs": [],
   "source": [
    "df1 = df.withColumn(\"contains_python\", array_contains(col(\"skills\"),\"Python\"))"
   ]
  },
  {
   "cell_type": "code",
   "execution_count": 29,
   "metadata": {},
   "outputs": [
    {
     "name": "stdout",
     "output_type": "stream",
     "text": [
      "+---+-------+--------------------+---------------+\n",
      "| id|   name|              skills|contains_python|\n",
      "+---+-------+--------------------+---------------+\n",
      "|  1|   John|      [Python, Java]|           true|\n",
      "|  2|  Alice|[C++, SQL, JavaSc...|          false|\n",
      "|  3|    Bob| [Python, Java, SQL]|           true|\n",
      "|  4|Charlie|[Python, JavaScript]|           true|\n",
      "|  5|  David|         [Java, C++]|          false|\n",
      "|  6|  Emily|[Python, JavaScri...|           true|\n",
      "|  7|  Frank| [Python, Java, C++]|           true|\n",
      "|  8|  Grace|        [JavaScript]|          false|\n",
      "|  9| Hannah|       [Python, SQL]|           true|\n",
      "| 10|    Ian|         [Java, C++]|          false|\n",
      "+---+-------+--------------------+---------------+\n",
      "\n"
     ]
    }
   ],
   "source": [
    "df1.show()"
   ]
  },
  {
   "cell_type": "code",
   "execution_count": 30,
   "metadata": {},
   "outputs": [
    {
     "name": "stdout",
     "output_type": "stream",
     "text": [
      "root\n",
      " |-- id: integer (nullable = true)\n",
      " |-- name: string (nullable = true)\n",
      " |-- skills: array (nullable = true)\n",
      " |    |-- element: string (containsNull = true)\n",
      " |-- contains_python: boolean (nullable = true)\n",
      "\n"
     ]
    }
   ],
   "source": [
    "df1.printSchema()"
   ]
  },
  {
   "cell_type": "code",
   "execution_count": null,
   "metadata": {},
   "outputs": [],
   "source": []
  }
 ],
 "metadata": {
  "kernelspec": {
   "display_name": "Python 3",
   "language": "python",
   "name": "python3"
  },
  "language_info": {
   "codemirror_mode": {
    "name": "ipython",
    "version": 3
   },
   "file_extension": ".py",
   "mimetype": "text/x-python",
   "name": "python",
   "nbconvert_exporter": "python",
   "pygments_lexer": "ipython3",
   "version": "3.10.12"
  }
 },
 "nbformat": 4,
 "nbformat_minor": 2
}
