{
 "cells": [
  {
   "cell_type": "code",
   "execution_count": 1,
   "metadata": {},
   "outputs": [
    {
     "name": "stderr",
     "output_type": "stream",
     "text": [
      "24/04/28 09:47:25 WARN Utils: Your hostname, akshay-vm resolves to a loopback address: 127.0.1.1; using 10.0.2.15 instead (on interface enp0s3)\n",
      "24/04/28 09:47:25 WARN Utils: Set SPARK_LOCAL_IP if you need to bind to another address\n",
      "Setting default log level to \"WARN\".\n",
      "To adjust logging level use sc.setLogLevel(newLevel). For SparkR, use setLogLevel(newLevel).\n",
      "24/04/28 09:47:26 WARN NativeCodeLoader: Unable to load native-hadoop library for your platform... using builtin-java classes where applicable\n"
     ]
    }
   ],
   "source": [
    "import findspark\n",
    "findspark.init('/home/akshay/spark-3.5.1-bin-hadoop3')\n",
    "from pyspark.sql import SparkSession\n",
    "spark = SparkSession.builder.appName(\"spark_tutorials_1\").getOrCreate()"
   ]
  },
  {
   "cell_type": "markdown",
   "metadata": {},
   "source": [
    "read a json"
   ]
  },
  {
   "cell_type": "code",
   "execution_count": 3,
   "metadata": {},
   "outputs": [
    {
     "name": "stdout",
     "output_type": "stream",
     "text": [
      "root\n",
      " |-- age: long (nullable = true)\n",
      " |-- employee_id: long (nullable = true)\n",
      " |-- employee_name: string (nullable = true)\n",
      " |-- gender: string (nullable = true)\n",
      "\n",
      "+---+-----------+--------------+------+\n",
      "|age|employee_id| employee_name|gender|\n",
      "+---+-----------+--------------+------+\n",
      "| 30|        101|    John Smith|  Male|\n",
      "| 28|        202| Emily Johnson|Female|\n",
      "| 35|        303| Michael Brown|  Male|\n",
      "| 32|        404|Sarah Williams|Female|\n",
      "+---+-----------+--------------+------+\n",
      "\n"
     ]
    }
   ],
   "source": [
    "df = spark.read.json(path = \"./json/single/employee.json\")\n",
    "df.printSchema()\n",
    "df.show()"
   ]
  },
  {
   "cell_type": "markdown",
   "metadata": {},
   "source": [
    "give it an external schema"
   ]
  },
  {
   "cell_type": "code",
   "execution_count": 4,
   "metadata": {},
   "outputs": [
    {
     "name": "stdout",
     "output_type": "stream",
     "text": [
      "root\n",
      " |-- age: integer (nullable = true)\n",
      " |-- employee_id: integer (nullable = true)\n",
      " |-- employee_name: string (nullable = true)\n",
      " |-- gender: string (nullable = true)\n",
      "\n",
      "+---+-----------+--------------+------+\n",
      "|age|employee_id| employee_name|gender|\n",
      "+---+-----------+--------------+------+\n",
      "| 30|        101|    John Smith|  Male|\n",
      "| 28|        202| Emily Johnson|Female|\n",
      "| 35|        303| Michael Brown|  Male|\n",
      "| 32|        404|Sarah Williams|Female|\n",
      "+---+-----------+--------------+------+\n",
      "\n"
     ]
    }
   ],
   "source": [
    "from pyspark.sql.types import StringType, StructType, IntegerType, StructField\n",
    "\n",
    "schema = StructType([StructField(\"age\", IntegerType(), True), \\\n",
    "                     StructField(\"employee_id\", IntegerType(), True), \\\n",
    "                    StructField(\"employee_name\", StringType(), True), \\\n",
    "                    StructField(\"gender\", StringType(), True), \\\n",
    "                     ])\n",
    "\n",
    "\n",
    "df = spark.read.json(path = \"./json/single/employee.json\", schema=schema)\n",
    "df.printSchema()\n",
    "df.show()"
   ]
  },
  {
   "cell_type": "markdown",
   "metadata": {},
   "source": [
    "reading multiline json file"
   ]
  },
  {
   "cell_type": "code",
   "execution_count": 12,
   "metadata": {},
   "outputs": [
    {
     "name": "stdout",
     "output_type": "stream",
     "text": [
      "root\n",
      " |-- age: integer (nullable = true)\n",
      " |-- employee_id: integer (nullable = true)\n",
      " |-- employee_name: string (nullable = true)\n",
      " |-- gender: string (nullable = true)\n",
      "\n",
      "+---+-----------+--------------+------+\n",
      "|age|employee_id| employee_name|gender|\n",
      "+---+-----------+--------------+------+\n",
      "| 30|        101|    John Smith|  Male|\n",
      "| 28|        202| Emily Johnson|Female|\n",
      "| 35|        303| Michael Brown|  Male|\n",
      "| 32|        404|Sarah Williams|Female|\n",
      "+---+-----------+--------------+------+\n",
      "\n"
     ]
    }
   ],
   "source": [
    "\n",
    "\n",
    "schema = StructType([StructField(\"age\", IntegerType(), True), \\\n",
    "                     StructField(\"employee_id\", IntegerType(), True), \\\n",
    "                    StructField(\"employee_name\", StringType(), True), \\\n",
    "                    StructField(\"gender\", StringType(), True), \\\n",
    "                     ])\n",
    "\n",
    "\n",
    "df = spark.read.json(path = \"./json/multiline/employee.json\", schema=schema, multiLine=True)\n",
    "df.printSchema()\n",
    "df.show()\n"
   ]
  },
  {
   "cell_type": "markdown",
   "metadata": {},
   "source": [
    "reading multipal file at once"
   ]
  },
  {
   "cell_type": "code",
   "execution_count": 15,
   "metadata": {},
   "outputs": [
    {
     "name": "stdout",
     "output_type": "stream",
     "text": [
      "root\n",
      " |-- age: integer (nullable = true)\n",
      " |-- employee_id: integer (nullable = true)\n",
      " |-- employee_name: string (nullable = true)\n",
      " |-- gender: string (nullable = true)\n",
      "\n",
      "+---+-----------+---------------+------+\n",
      "|age|employee_id|  employee_name|gender|\n",
      "+---+-----------+---------------+------+\n",
      "| 30|        101|     John Smith|  Male|\n",
      "| 28|        202|  Emily Johnson|Female|\n",
      "| 35|        303|  Michael Brown|  Male|\n",
      "| 32|        404| Sarah Williams|Female|\n",
      "| 33|        505|      David Lee|  Male|\n",
      "| 29|        606|    Emma Garcia|Female|\n",
      "| 40|        707|James Rodriguez|  Male|\n",
      "| 27|        808|Olivia Martinez|Female|\n",
      "+---+-----------+---------------+------+\n",
      "\n"
     ]
    }
   ],
   "source": [
    "schema = StructType([StructField(\"age\", IntegerType(), True), \\\n",
    "                     StructField(\"employee_id\", IntegerType(), True), \\\n",
    "                    StructField(\"employee_name\", StringType(), True), \\\n",
    "                    StructField(\"gender\", StringType(), True), \\\n",
    "                     ])\n",
    "\n",
    "\n",
    "df = spark.read.json(path = \"./json/single/*.json\", schema=schema)\n",
    "df.printSchema()\n",
    "df.show()"
   ]
  },
  {
   "cell_type": "code",
   "execution_count": null,
   "metadata": {},
   "outputs": [],
   "source": []
  }
 ],
 "metadata": {
  "kernelspec": {
   "display_name": "Python 3",
   "language": "python",
   "name": "python3"
  },
  "language_info": {
   "codemirror_mode": {
    "name": "ipython",
    "version": 3
   },
   "file_extension": ".py",
   "mimetype": "text/x-python",
   "name": "python",
   "nbconvert_exporter": "python",
   "pygments_lexer": "ipython3",
   "version": "3.10.12"
  }
 },
 "nbformat": 4,
 "nbformat_minor": 2
}
