{
 "cells": [
  {
   "cell_type": "code",
   "execution_count": 1,
   "metadata": {},
   "outputs": [
    {
     "name": "stderr",
     "output_type": "stream",
     "text": [
      "24/06/29 18:04:20 WARN Utils: Your hostname, akshay-vm resolves to a loopback address: 127.0.1.1; using 10.0.2.15 instead (on interface enp0s3)\n",
      "24/06/29 18:04:20 WARN Utils: Set SPARK_LOCAL_IP if you need to bind to another address\n",
      "Setting default log level to \"WARN\".\n",
      "To adjust logging level use sc.setLogLevel(newLevel). For SparkR, use setLogLevel(newLevel).\n",
      "24/06/29 18:04:21 WARN NativeCodeLoader: Unable to load native-hadoop library for your platform... using builtin-java classes where applicable\n",
      "24/06/29 18:04:23 WARN Utils: Service 'SparkUI' could not bind on port 4040. Attempting port 4041.\n",
      "24/06/29 18:04:23 WARN Utils: Service 'SparkUI' could not bind on port 4041. Attempting port 4042.\n"
     ]
    }
   ],
   "source": [
    "import findspark\n",
    "findspark.init('/home/akshay/spark-3.5.1-bin-hadoop3')\n",
    "from pyspark.sql import SparkSession\n",
    "spark = SparkSession.builder.appName(\"spark_tutorials_1\").getOrCreate()"
   ]
  },
  {
   "cell_type": "code",
   "execution_count": 2,
   "metadata": {},
   "outputs": [],
   "source": [
    "data = [\n",
    "    (\"Alice\", '{\"address\":{\"city\": \"New York\", \"state\": \"NY\"}, \"gender\": \"female\"}'),\n",
    "    (\"Bob\", '{\"address\":{\"city\": \"Los Angeles\", \"state\": \"CA\"}, \"gender\": \"male\"}'),\n",
    "    (\"Charlie\", '{\"address\":{\"city\": \"Chicago\", \"state\": \"IL\"}, \"gender\": \"male\"}'),\n",
    "    (\"Diana\", '{\"address\":{\"city\": \"Houston\", \"state\": \"TX\"}, \"gender\": \"female\"}'),\n",
    "    (\"Eve\", '{\"address\":{\"city\": \"Miami\", \"state\": \"FL\"}, \"gender\": \"female\"}')\n",
    "]\n"
   ]
  },
  {
   "cell_type": "code",
   "execution_count": 3,
   "metadata": {},
   "outputs": [],
   "source": [
    "schema = [\"name\",\"props\"]"
   ]
  },
  {
   "cell_type": "code",
   "execution_count": 4,
   "metadata": {},
   "outputs": [],
   "source": [
    "df = spark.createDataFrame(data=data, schema=schema)"
   ]
  },
  {
   "cell_type": "code",
   "execution_count": 5,
   "metadata": {},
   "outputs": [
    {
     "name": "stderr",
     "output_type": "stream",
     "text": [
      "                                                                                \r"
     ]
    },
    {
     "name": "stdout",
     "output_type": "stream",
     "text": [
      "+-------+--------------------------------------------------------------------+\n",
      "|name   |props                                                               |\n",
      "+-------+--------------------------------------------------------------------+\n",
      "|Alice  |{\"address\":{\"city\": \"New York\", \"state\": \"NY\"}, \"gender\": \"female\"} |\n",
      "|Bob    |{\"address\":{\"city\": \"Los Angeles\", \"state\": \"CA\"}, \"gender\": \"male\"}|\n",
      "|Charlie|{\"address\":{\"city\": \"Chicago\", \"state\": \"IL\"}, \"gender\": \"male\"}    |\n",
      "|Diana  |{\"address\":{\"city\": \"Houston\", \"state\": \"TX\"}, \"gender\": \"female\"}  |\n",
      "|Eve    |{\"address\":{\"city\": \"Miami\", \"state\": \"FL\"}, \"gender\": \"female\"}    |\n",
      "+-------+--------------------------------------------------------------------+\n",
      "\n"
     ]
    }
   ],
   "source": [
    "df.show(truncate=False)"
   ]
  },
  {
   "cell_type": "code",
   "execution_count": 7,
   "metadata": {},
   "outputs": [],
   "source": [
    "from pyspark.sql.functions import get_json_object"
   ]
  },
  {
   "cell_type": "code",
   "execution_count": 8,
   "metadata": {},
   "outputs": [],
   "source": [
    "df1 = df.withColumn(\"gender\", get_json_object(\"props\",\"$.gender\"))\n"
   ]
  },
  {
   "cell_type": "code",
   "execution_count": 9,
   "metadata": {},
   "outputs": [
    {
     "name": "stdout",
     "output_type": "stream",
     "text": [
      "+-------+--------------------------------------------------------------------+------+\n",
      "|name   |props                                                               |gender|\n",
      "+-------+--------------------------------------------------------------------+------+\n",
      "|Alice  |{\"address\":{\"city\": \"New York\", \"state\": \"NY\"}, \"gender\": \"female\"} |female|\n",
      "|Bob    |{\"address\":{\"city\": \"Los Angeles\", \"state\": \"CA\"}, \"gender\": \"male\"}|male  |\n",
      "|Charlie|{\"address\":{\"city\": \"Chicago\", \"state\": \"IL\"}, \"gender\": \"male\"}    |male  |\n",
      "|Diana  |{\"address\":{\"city\": \"Houston\", \"state\": \"TX\"}, \"gender\": \"female\"}  |female|\n",
      "|Eve    |{\"address\":{\"city\": \"Miami\", \"state\": \"FL\"}, \"gender\": \"female\"}    |female|\n",
      "+-------+--------------------------------------------------------------------+------+\n",
      "\n"
     ]
    }
   ],
   "source": [
    "df1.show(truncate=False)"
   ]
  },
  {
   "cell_type": "code",
   "execution_count": 10,
   "metadata": {},
   "outputs": [
    {
     "name": "stdout",
     "output_type": "stream",
     "text": [
      "+-------+--------------------------------------------------------------------+------+-----------+\n",
      "|name   |props                                                               |gender|city       |\n",
      "+-------+--------------------------------------------------------------------+------+-----------+\n",
      "|Alice  |{\"address\":{\"city\": \"New York\", \"state\": \"NY\"}, \"gender\": \"female\"} |female|New York   |\n",
      "|Bob    |{\"address\":{\"city\": \"Los Angeles\", \"state\": \"CA\"}, \"gender\": \"male\"}|male  |Los Angeles|\n",
      "|Charlie|{\"address\":{\"city\": \"Chicago\", \"state\": \"IL\"}, \"gender\": \"male\"}    |male  |Chicago    |\n",
      "|Diana  |{\"address\":{\"city\": \"Houston\", \"state\": \"TX\"}, \"gender\": \"female\"}  |female|Houston    |\n",
      "|Eve    |{\"address\":{\"city\": \"Miami\", \"state\": \"FL\"}, \"gender\": \"female\"}    |female|Miami      |\n",
      "+-------+--------------------------------------------------------------------+------+-----------+\n",
      "\n"
     ]
    }
   ],
   "source": [
    "df2 = df1.withColumn(\"city\",get_json_object(\"props\", \"$.address.city\"))\n",
    "df2.show(truncate=False)"
   ]
  },
  {
   "cell_type": "code",
   "execution_count": 11,
   "metadata": {},
   "outputs": [
    {
     "name": "stdout",
     "output_type": "stream",
     "text": [
      "Help on function get_json_object in module pyspark.sql.functions:\n",
      "\n",
      "get_json_object(col: 'ColumnOrName', path: str) -> pyspark.sql.column.Column\n",
      "    Extracts json object from a json string based on json `path` specified, and returns json string\n",
      "    of the extracted json object. It will return null if the input json string is invalid.\n",
      "    \n",
      "    .. versionadded:: 1.6.0\n",
      "    \n",
      "    .. versionchanged:: 3.4.0\n",
      "        Supports Spark Connect.\n",
      "    \n",
      "    Parameters\n",
      "    ----------\n",
      "    col : :class:`~pyspark.sql.Column` or str\n",
      "        string column in json format\n",
      "    path : str\n",
      "        path to the json object to extract\n",
      "    \n",
      "    Returns\n",
      "    -------\n",
      "    :class:`~pyspark.sql.Column`\n",
      "        string representation of given JSON object value.\n",
      "    \n",
      "    Examples\n",
      "    --------\n",
      "    >>> data = [(\"1\", '''{\"f1\": \"value1\", \"f2\": \"value2\"}'''), (\"2\", '''{\"f1\": \"value12\"}''')]\n",
      "    >>> df = spark.createDataFrame(data, (\"key\", \"jstring\"))\n",
      "    >>> df.select(df.key, get_json_object(df.jstring, '$.f1').alias(\"c0\"), \\\n",
      "    ...                   get_json_object(df.jstring, '$.f2').alias(\"c1\") ).collect()\n",
      "    [Row(key='1', c0='value1', c1='value2'), Row(key='2', c0='value12', c1=None)]\n",
      "\n"
     ]
    }
   ],
   "source": [
    "help(get_json_object)"
   ]
  },
  {
   "cell_type": "code",
   "execution_count": null,
   "metadata": {},
   "outputs": [],
   "source": []
  }
 ],
 "metadata": {
  "kernelspec": {
   "display_name": "Python 3",
   "language": "python",
   "name": "python3"
  },
  "language_info": {
   "codemirror_mode": {
    "name": "ipython",
    "version": 3
   },
   "file_extension": ".py",
   "mimetype": "text/x-python",
   "name": "python",
   "nbconvert_exporter": "python",
   "pygments_lexer": "ipython3",
   "version": "3.10.12"
  }
 },
 "nbformat": 4,
 "nbformat_minor": 2
}
