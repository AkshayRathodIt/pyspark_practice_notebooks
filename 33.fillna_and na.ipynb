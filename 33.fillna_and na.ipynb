{
 "cells": [
  {
   "cell_type": "code",
   "execution_count": 1,
   "metadata": {},
   "outputs": [
    {
     "name": "stderr",
     "output_type": "stream",
     "text": [
      "24/06/22 22:02:25 WARN Utils: Your hostname, akshay-vm resolves to a loopback address: 127.0.1.1; using 10.0.2.15 instead (on interface enp0s3)\n",
      "24/06/22 22:02:25 WARN Utils: Set SPARK_LOCAL_IP if you need to bind to another address\n",
      "Setting default log level to \"WARN\".\n",
      "To adjust logging level use sc.setLogLevel(newLevel). For SparkR, use setLogLevel(newLevel).\n",
      "24/06/22 22:02:27 WARN NativeCodeLoader: Unable to load native-hadoop library for your platform... using builtin-java classes where applicable\n"
     ]
    }
   ],
   "source": [
    "import findspark\n",
    "findspark.init('/home/akshay/spark-3.5.1-bin-hadoop3')\n",
    "from pyspark.sql import SparkSession\n",
    "spark = SparkSession.builder.appName(\"spark_tutorials_1\").getOrCreate()"
   ]
  },
  {
   "cell_type": "code",
   "execution_count": 2,
   "metadata": {},
   "outputs": [],
   "source": [
    "employees = [\n",
    "    (1, 'Alice', 'Female', 'HR'),\n",
    "    (2, 'Bob', 'Male', 'IT'),\n",
    "    (3, 'Charlie', 'Male', 'Finance'),\n",
    "    (4, 'Diana', None, 'Marketing'),\n",
    "    (5, 'Eve', 'Female', 'Sales'),\n",
    "    (6, 'Frank', 'Male', None),\n",
    "    (7, 'Grace', 'Female', 'HR'),\n",
    "    (8, 'Henry', 'Male', 'Finance'),\n",
    "    (9, 'Ivy', 'Female', 'IT'),\n",
    "    (10, 'Jack', None, 'Marketing'),\n",
    "    (11, 'Kate', 'Female', 'Engineering'),\n",
    "    (12, 'Leo', 'Male', 'Sales'),\n",
    "    (13, None, 'Female', 'IT'),\n",
    "    (14, 'Nathan', 'Male', 'HR'),\n",
    "    (15, 'Olivia', 'Female', 'Marketing')\n",
    "]\n"
   ]
  },
  {
   "cell_type": "code",
   "execution_count": 3,
   "metadata": {},
   "outputs": [],
   "source": [
    "schema = [\"id\",\"name\",\"gender\",\"dept\"]"
   ]
  },
  {
   "cell_type": "code",
   "execution_count": 4,
   "metadata": {},
   "outputs": [
    {
     "name": "stderr",
     "output_type": "stream",
     "text": [
      "                                                                                \r"
     ]
    },
    {
     "name": "stdout",
     "output_type": "stream",
     "text": [
      "+---+-------+------+-----------+\n",
      "| id|   name|gender|       dept|\n",
      "+---+-------+------+-----------+\n",
      "|  1|  Alice|Female|         HR|\n",
      "|  2|    Bob|  Male|         IT|\n",
      "|  3|Charlie|  Male|    Finance|\n",
      "|  4|  Diana|  NULL|  Marketing|\n",
      "|  5|    Eve|Female|      Sales|\n",
      "|  6|  Frank|  Male|       NULL|\n",
      "|  7|  Grace|Female|         HR|\n",
      "|  8|  Henry|  Male|    Finance|\n",
      "|  9|    Ivy|Female|         IT|\n",
      "| 10|   Jack|  NULL|  Marketing|\n",
      "| 11|   Kate|Female|Engineering|\n",
      "| 12|    Leo|  Male|      Sales|\n",
      "| 13|   NULL|Female|         IT|\n",
      "| 14| Nathan|  Male|         HR|\n",
      "| 15| Olivia|Female|  Marketing|\n",
      "+---+-------+------+-----------+\n",
      "\n"
     ]
    }
   ],
   "source": [
    "df = spark.createDataFrame(data=employees, schema=schema)\n",
    "df.show()"
   ]
  },
  {
   "cell_type": "markdown",
   "metadata": {},
   "source": [
    "fillna"
   ]
  },
  {
   "cell_type": "code",
   "execution_count": 6,
   "metadata": {},
   "outputs": [
    {
     "name": "stdout",
     "output_type": "stream",
     "text": [
      "Help on method fillna in module pyspark.sql.dataframe:\n",
      "\n",
      "fillna(value: Union[ForwardRef('LiteralType'), Dict[str, ForwardRef('LiteralType')]], subset: Union[str, Tuple[str, ...], List[str], NoneType] = None) -> 'DataFrame' method of pyspark.sql.dataframe.DataFrame instance\n",
      "    Replace null values, alias for ``na.fill()``.\n",
      "    :func:`DataFrame.fillna` and :func:`DataFrameNaFunctions.fill` are aliases of each other.\n",
      "    \n",
      "    .. versionadded:: 1.3.1\n",
      "    \n",
      "    .. versionchanged:: 3.4.0\n",
      "        Supports Spark Connect.\n",
      "    \n",
      "    Parameters\n",
      "    ----------\n",
      "    value : int, float, string, bool or dict\n",
      "        Value to replace null values with.\n",
      "        If the value is a dict, then `subset` is ignored and `value` must be a mapping\n",
      "        from column name (string) to replacement value. The replacement value must be\n",
      "        an int, float, boolean, or string.\n",
      "    subset : str, tuple or list, optional\n",
      "        optional list of column names to consider.\n",
      "        Columns specified in subset that do not have matching data types are ignored.\n",
      "        For example, if `value` is a string, and subset contains a non-string column,\n",
      "        then the non-string column is simply ignored.\n",
      "    \n",
      "    Returns\n",
      "    -------\n",
      "    :class:`DataFrame`\n",
      "        DataFrame with replaced null values.\n",
      "    \n",
      "    Examples\n",
      "    --------\n",
      "    >>> df = spark.createDataFrame([\n",
      "    ...     (10, 80.5, \"Alice\", None),\n",
      "    ...     (5, None, \"Bob\", None),\n",
      "    ...     (None, None, \"Tom\", None),\n",
      "    ...     (None, None, None, True)],\n",
      "    ...     schema=[\"age\", \"height\", \"name\", \"bool\"])\n",
      "    \n",
      "    Fill all null values with 50 for numeric columns.\n",
      "    \n",
      "    >>> df.na.fill(50).show()\n",
      "    +---+------+-----+----+\n",
      "    |age|height| name|bool|\n",
      "    +---+------+-----+----+\n",
      "    | 10|  80.5|Alice|NULL|\n",
      "    |  5|  50.0|  Bob|NULL|\n",
      "    | 50|  50.0|  Tom|NULL|\n",
      "    | 50|  50.0| NULL|true|\n",
      "    +---+------+-----+----+\n",
      "    \n",
      "    Fill all null values with ``False`` for boolean columns.\n",
      "    \n",
      "    >>> df.na.fill(False).show()\n",
      "    +----+------+-----+-----+\n",
      "    | age|height| name| bool|\n",
      "    +----+------+-----+-----+\n",
      "    |  10|  80.5|Alice|false|\n",
      "    |   5|  NULL|  Bob|false|\n",
      "    |NULL|  NULL|  Tom|false|\n",
      "    |NULL|  NULL| NULL| true|\n",
      "    +----+------+-----+-----+\n",
      "    \n",
      "    Fill all null values with to 50 and \"unknown\" for 'age' and 'name' column respectively.\n",
      "    \n",
      "    >>> df.na.fill({'age': 50, 'name': 'unknown'}).show()\n",
      "    +---+------+-------+----+\n",
      "    |age|height|   name|bool|\n",
      "    +---+------+-------+----+\n",
      "    | 10|  80.5|  Alice|NULL|\n",
      "    |  5|  NULL|    Bob|NULL|\n",
      "    | 50|  NULL|    Tom|NULL|\n",
      "    | 50|  NULL|unknown|true|\n",
      "    +---+------+-------+----+\n",
      "\n"
     ]
    }
   ],
   "source": [
    "help(df.fillna)"
   ]
  },
  {
   "cell_type": "code",
   "execution_count": 5,
   "metadata": {},
   "outputs": [
    {
     "name": "stdout",
     "output_type": "stream",
     "text": [
      "+---+-------+-------+-----------+\n",
      "| id|   name| gender|       dept|\n",
      "+---+-------+-------+-----------+\n",
      "|  1|  Alice| Female|         HR|\n",
      "|  2|    Bob|   Male|         IT|\n",
      "|  3|Charlie|   Male|    Finance|\n",
      "|  4|  Diana|unknown|  Marketing|\n",
      "|  5|    Eve| Female|      Sales|\n",
      "|  6|  Frank|   Male|    unknown|\n",
      "|  7|  Grace| Female|         HR|\n",
      "|  8|  Henry|   Male|    Finance|\n",
      "|  9|    Ivy| Female|         IT|\n",
      "| 10|   Jack|unknown|  Marketing|\n",
      "| 11|   Kate| Female|Engineering|\n",
      "| 12|    Leo|   Male|      Sales|\n",
      "| 13|unknown| Female|         IT|\n",
      "| 14| Nathan|   Male|         HR|\n",
      "| 15| Olivia| Female|  Marketing|\n",
      "+---+-------+-------+-----------+\n",
      "\n"
     ]
    }
   ],
   "source": [
    "df1 = df.fillna(\"unknown\")\n",
    "df1.show()"
   ]
  },
  {
   "cell_type": "code",
   "execution_count": 7,
   "metadata": {},
   "outputs": [
    {
     "name": "stdout",
     "output_type": "stream",
     "text": [
      "+---+-------+-------+-----------+\n",
      "| id|   name| gender|       dept|\n",
      "+---+-------+-------+-----------+\n",
      "|  1|  Alice| Female|         HR|\n",
      "|  2|    Bob|   Male|         IT|\n",
      "|  3|Charlie|   Male|    Finance|\n",
      "|  4|  Diana|unknown|  Marketing|\n",
      "|  5|    Eve| Female|      Sales|\n",
      "|  6|  Frank|   Male|       NULL|\n",
      "|  7|  Grace| Female|         HR|\n",
      "|  8|  Henry|   Male|    Finance|\n",
      "|  9|    Ivy| Female|         IT|\n",
      "| 10|   Jack|unknown|  Marketing|\n",
      "| 11|   Kate| Female|Engineering|\n",
      "| 12|    Leo|   Male|      Sales|\n",
      "| 13|unknown| Female|         IT|\n",
      "| 14| Nathan|   Male|         HR|\n",
      "| 15| Olivia| Female|  Marketing|\n",
      "+---+-------+-------+-----------+\n",
      "\n"
     ]
    }
   ],
   "source": [
    "df2 = df.fillna(\"unknown\",[\"gender\",\"name\"])\n",
    "df2.show()"
   ]
  },
  {
   "cell_type": "code",
   "execution_count": 8,
   "metadata": {},
   "outputs": [
    {
     "name": "stdout",
     "output_type": "stream",
     "text": [
      "+---+-------+-------+-----------+\n",
      "| id|   name| gender|       dept|\n",
      "+---+-------+-------+-----------+\n",
      "|  1|  Alice| Female|         HR|\n",
      "|  2|    Bob|   Male|         IT|\n",
      "|  3|Charlie|   Male|    Finance|\n",
      "|  4|  Diana|unknown|  Marketing|\n",
      "|  5|    Eve| Female|      Sales|\n",
      "|  6|  Frank|   Male|    unknown|\n",
      "|  7|  Grace| Female|         HR|\n",
      "|  8|  Henry|   Male|    Finance|\n",
      "|  9|    Ivy| Female|         IT|\n",
      "| 10|   Jack|unknown|  Marketing|\n",
      "| 11|   Kate| Female|Engineering|\n",
      "| 12|    Leo|   Male|      Sales|\n",
      "| 13|unknown| Female|         IT|\n",
      "| 14| Nathan|   Male|         HR|\n",
      "| 15| Olivia| Female|  Marketing|\n",
      "+---+-------+-------+-----------+\n",
      "\n"
     ]
    }
   ],
   "source": [
    "df3 = df.na.fill(\"unknown\")\n",
    "df3.show()"
   ]
  },
  {
   "cell_type": "code",
   "execution_count": null,
   "metadata": {},
   "outputs": [],
   "source": []
  }
 ],
 "metadata": {
  "kernelspec": {
   "display_name": "Python 3",
   "language": "python",
   "name": "python3"
  },
  "language_info": {
   "codemirror_mode": {
    "name": "ipython",
    "version": 3
   },
   "file_extension": ".py",
   "mimetype": "text/x-python",
   "name": "python",
   "nbconvert_exporter": "python",
   "pygments_lexer": "ipython3",
   "version": "3.10.12"
  }
 },
 "nbformat": 4,
 "nbformat_minor": 2
}
