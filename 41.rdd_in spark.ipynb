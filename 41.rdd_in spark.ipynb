{
 "cells": [
  {
   "cell_type": "code",
   "execution_count": 1,
   "metadata": {},
   "outputs": [
    {
     "name": "stderr",
     "output_type": "stream",
     "text": [
      "24/06/24 09:50:11 WARN Utils: Your hostname, akshay-vm resolves to a loopback address: 127.0.1.1; using 10.0.2.15 instead (on interface enp0s3)\n",
      "24/06/24 09:50:11 WARN Utils: Set SPARK_LOCAL_IP if you need to bind to another address\n",
      "Setting default log level to \"WARN\".\n",
      "To adjust logging level use sc.setLogLevel(newLevel). For SparkR, use setLogLevel(newLevel).\n",
      "24/06/24 09:50:13 WARN NativeCodeLoader: Unable to load native-hadoop library for your platform... using builtin-java classes where applicable\n"
     ]
    }
   ],
   "source": [
    "import findspark\n",
    "findspark.init('/home/akshay/spark-3.5.1-bin-hadoop3')\n",
    "from pyspark.sql import SparkSession\n",
    "spark = SparkSession.builder.appName(\"spark_tutorials_1\").getOrCreate()"
   ]
  },
  {
   "cell_type": "code",
   "execution_count": 2,
   "metadata": {},
   "outputs": [],
   "source": [
    "employees = [\n",
    "    (1, 'John Doe', 50000, 2000),\n",
    "    (2, 'Jane Smith', 60000, 2500),\n",
    "    (3, 'Michael Johnson', 55000, 2200),\n",
    "    (4, 'Emily Davis', 52000, 1800),\n",
    "    (5, 'Chris Brown', 58000, 2700),\n",
    "    (6, 'Sarah Wilson', 53000, 2000),\n",
    "    (7, 'Kevin Lee', 51000, 1900),\n",
    "    (8, 'Jessica Moore', 59000, 2600),\n",
    "    (9, 'David Anderson', 54000, 2100),\n",
    "    (10, 'Amy Taylor', 57000, 2400)\n",
    "]\n"
   ]
  },
  {
   "cell_type": "code",
   "execution_count": 3,
   "metadata": {},
   "outputs": [],
   "source": [
    "data_rdd = spark.sparkContext.parallelize(employees)"
   ]
  },
  {
   "cell_type": "code",
   "execution_count": 4,
   "metadata": {},
   "outputs": [
    {
     "data": {
      "text/plain": [
       "ParallelCollectionRDD[0] at readRDDFromFile at PythonRDD.scala:289"
      ]
     },
     "execution_count": 4,
     "metadata": {},
     "output_type": "execute_result"
    }
   ],
   "source": [
    "data_rdd"
   ]
  },
  {
   "cell_type": "code",
   "execution_count": 5,
   "metadata": {},
   "outputs": [
    {
     "data": {
      "text/plain": [
       "pyspark.rdd.RDD"
      ]
     },
     "execution_count": 5,
     "metadata": {},
     "output_type": "execute_result"
    }
   ],
   "source": [
    "type(data_rdd)"
   ]
  },
  {
   "cell_type": "markdown",
   "metadata": {},
   "source": [
    "convert rdd to df"
   ]
  },
  {
   "cell_type": "code",
   "execution_count": 10,
   "metadata": {},
   "outputs": [],
   "source": [
    "df =data_rdd.toDF([\"id\",\"name\",\"salary\",\"nonas\"])"
   ]
  },
  {
   "cell_type": "code",
   "execution_count": 11,
   "metadata": {},
   "outputs": [
    {
     "name": "stdout",
     "output_type": "stream",
     "text": [
      "+---+---------------+------+-----+\n",
      "| id|           name|salary|nonas|\n",
      "+---+---------------+------+-----+\n",
      "|  1|       John Doe| 50000| 2000|\n",
      "|  2|     Jane Smith| 60000| 2500|\n",
      "|  3|Michael Johnson| 55000| 2200|\n",
      "|  4|    Emily Davis| 52000| 1800|\n",
      "|  5|    Chris Brown| 58000| 2700|\n",
      "|  6|   Sarah Wilson| 53000| 2000|\n",
      "|  7|      Kevin Lee| 51000| 1900|\n",
      "|  8|  Jessica Moore| 59000| 2600|\n",
      "|  9| David Anderson| 54000| 2100|\n",
      "| 10|     Amy Taylor| 57000| 2400|\n",
      "+---+---------------+------+-----+\n",
      "\n"
     ]
    }
   ],
   "source": [
    "df.show()"
   ]
  },
  {
   "cell_type": "code",
   "execution_count": 12,
   "metadata": {},
   "outputs": [],
   "source": [
    "data_list = data_rdd.collect()"
   ]
  },
  {
   "cell_type": "code",
   "execution_count": 13,
   "metadata": {},
   "outputs": [
    {
     "data": {
      "text/plain": [
       "[(1, 'John Doe', 50000, 2000),\n",
       " (2, 'Jane Smith', 60000, 2500),\n",
       " (3, 'Michael Johnson', 55000, 2200),\n",
       " (4, 'Emily Davis', 52000, 1800),\n",
       " (5, 'Chris Brown', 58000, 2700),\n",
       " (6, 'Sarah Wilson', 53000, 2000),\n",
       " (7, 'Kevin Lee', 51000, 1900),\n",
       " (8, 'Jessica Moore', 59000, 2600),\n",
       " (9, 'David Anderson', 54000, 2100),\n",
       " (10, 'Amy Taylor', 57000, 2400)]"
      ]
     },
     "execution_count": 13,
     "metadata": {},
     "output_type": "execute_result"
    }
   ],
   "source": [
    "data_list"
   ]
  },
  {
   "cell_type": "code",
   "execution_count": null,
   "metadata": {},
   "outputs": [],
   "source": []
  }
 ],
 "metadata": {
  "kernelspec": {
   "display_name": "Python 3",
   "language": "python",
   "name": "python3"
  },
  "language_info": {
   "codemirror_mode": {
    "name": "ipython",
    "version": 3
   },
   "file_extension": ".py",
   "mimetype": "text/x-python",
   "name": "python",
   "nbconvert_exporter": "python",
   "pygments_lexer": "ipython3",
   "version": "3.10.12"
  }
 },
 "nbformat": 4,
 "nbformat_minor": 2
}
