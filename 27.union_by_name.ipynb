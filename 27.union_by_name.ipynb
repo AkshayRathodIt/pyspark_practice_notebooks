{
 "cells": [
  {
   "cell_type": "code",
   "execution_count": 1,
   "metadata": {},
   "outputs": [
    {
     "name": "stderr",
     "output_type": "stream",
     "text": [
      "24/06/18 23:38:18 WARN Utils: Your hostname, akshay-vm resolves to a loopback address: 127.0.1.1; using 10.0.2.15 instead (on interface enp0s3)\n",
      "24/06/18 23:38:18 WARN Utils: Set SPARK_LOCAL_IP if you need to bind to another address\n",
      "Setting default log level to \"WARN\".\n",
      "To adjust logging level use sc.setLogLevel(newLevel). For SparkR, use setLogLevel(newLevel).\n",
      "24/06/18 23:38:19 WARN NativeCodeLoader: Unable to load native-hadoop library for your platform... using builtin-java classes where applicable\n"
     ]
    }
   ],
   "source": [
    "import findspark\n",
    "findspark.init('/home/akshay/spark-3.5.1-bin-hadoop3')\n",
    "from pyspark.sql import SparkSession\n",
    "spark = SparkSession.builder.appName(\"spark_tutorials_1\").getOrCreate()"
   ]
  },
  {
   "cell_type": "code",
   "execution_count": 9,
   "metadata": {},
   "outputs": [],
   "source": [
    "from pyspark.sql import Row\n",
    "from pyspark.sql.functions import lit"
   ]
  },
  {
   "cell_type": "code",
   "execution_count": 4,
   "metadata": {},
   "outputs": [],
   "source": [
    "# Sample data for DataFrame 1\n",
    "data1 = [\n",
    "    Row(id=1, name='Alice', gender='Female', salary=60000, dept='HR'),\n",
    "    Row(id=2, name='Bob', gender='Male', salary=75000, dept='Engineering')\n",
    "]"
   ]
  },
  {
   "cell_type": "code",
   "execution_count": 5,
   "metadata": {},
   "outputs": [],
   "source": [
    "# Sample data for DataFrame 2 (same schema as DataFrame 1)\n",
    "data2 = [\n",
    "    Row(id=3, name='Charlie', gender='Male', salary=50000, dept='Marketing'),\n",
    "    Row(id=4, name='David', gender='Male', salary=90000, dept='Finance')\n",
    "]"
   ]
  },
  {
   "cell_type": "code",
   "execution_count": 6,
   "metadata": {},
   "outputs": [],
   "source": [
    "# Create DataFrames from RDDs\n",
    "df1 = spark.createDataFrame(data1)\n",
    "df2 = spark.createDataFrame(data2)"
   ]
  },
  {
   "cell_type": "code",
   "execution_count": 10,
   "metadata": {},
   "outputs": [],
   "source": [
    "# Add an extra column to df2 to demonstrate alignment by name\n",
    "df2 = df2.withColumn('bonus', lit(1000))"
   ]
  },
  {
   "cell_type": "code",
   "execution_count": 12,
   "metadata": {},
   "outputs": [],
   "source": [
    "# Union by name\n",
    "df_union = df1.unionByName(df2, allowMissingColumns=True)"
   ]
  },
  {
   "cell_type": "code",
   "execution_count": 13,
   "metadata": {},
   "outputs": [
    {
     "name": "stdout",
     "output_type": "stream",
     "text": [
      "====df1====\n"
     ]
    },
    {
     "name": "stderr",
     "output_type": "stream",
     "text": [
      "                                                                                \r"
     ]
    },
    {
     "name": "stdout",
     "output_type": "stream",
     "text": [
      "+---+-----+------+------+-----------+\n",
      "| id| name|gender|salary|       dept|\n",
      "+---+-----+------+------+-----------+\n",
      "|  1|Alice|Female| 60000|         HR|\n",
      "|  2|  Bob|  Male| 75000|Engineering|\n",
      "+---+-----+------+------+-----------+\n",
      "\n",
      "====df2====\n",
      "+---+-------+------+------+---------+-----+\n",
      "| id|   name|gender|salary|     dept|bonus|\n",
      "+---+-------+------+------+---------+-----+\n",
      "|  3|Charlie|  Male| 50000|Marketing| 1000|\n",
      "|  4|  David|  Male| 90000|  Finance| 1000|\n",
      "+---+-------+------+------+---------+-----+\n",
      "\n",
      "====df_union====\n",
      "+---+-------+------+------+-----------+-----+\n",
      "| id|   name|gender|salary|       dept|bonus|\n",
      "+---+-------+------+------+-----------+-----+\n",
      "|  1|  Alice|Female| 60000|         HR| NULL|\n",
      "|  2|    Bob|  Male| 75000|Engineering| NULL|\n",
      "|  3|Charlie|  Male| 50000|  Marketing| 1000|\n",
      "|  4|  David|  Male| 90000|    Finance| 1000|\n",
      "+---+-------+------+------+-----------+-----+\n",
      "\n"
     ]
    }
   ],
   "source": [
    "# Show the result\n",
    "print(\"====df1====\")\n",
    "df1.show()\n",
    "\n",
    "# Show the result\n",
    "print(\"====df2====\")\n",
    "df2.show()\n",
    "\n",
    "\n",
    "# Show the result\n",
    "print(\"====df_union====\")\n",
    "df_union.show()"
   ]
  },
  {
   "cell_type": "code",
   "execution_count": null,
   "metadata": {},
   "outputs": [],
   "source": []
  }
 ],
 "metadata": {
  "kernelspec": {
   "display_name": "Python 3",
   "language": "python",
   "name": "python3"
  },
  "language_info": {
   "codemirror_mode": {
    "name": "ipython",
    "version": 3
   },
   "file_extension": ".py",
   "mimetype": "text/x-python",
   "name": "python",
   "nbconvert_exporter": "python",
   "pygments_lexer": "ipython3",
   "version": "3.10.12"
  }
 },
 "nbformat": 4,
 "nbformat_minor": 2
}
