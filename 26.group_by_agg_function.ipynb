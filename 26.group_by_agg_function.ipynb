{
 "cells": [
  {
   "cell_type": "code",
   "execution_count": 1,
   "metadata": {},
   "outputs": [
    {
     "name": "stderr",
     "output_type": "stream",
     "text": [
      "24/06/18 21:38:25 WARN Utils: Your hostname, akshay-vm resolves to a loopback address: 127.0.1.1; using 10.0.2.15 instead (on interface enp0s3)\n",
      "24/06/18 21:38:25 WARN Utils: Set SPARK_LOCAL_IP if you need to bind to another address\n",
      "Setting default log level to \"WARN\".\n",
      "To adjust logging level use sc.setLogLevel(newLevel). For SparkR, use setLogLevel(newLevel).\n",
      "24/06/18 21:38:26 WARN NativeCodeLoader: Unable to load native-hadoop library for your platform... using builtin-java classes where applicable\n",
      "24/06/18 21:38:28 WARN Utils: Service 'SparkUI' could not bind on port 4040. Attempting port 4041.\n"
     ]
    }
   ],
   "source": [
    "import findspark\n",
    "findspark.init('/home/akshay/spark-3.5.1-bin-hadoop3')\n",
    "from pyspark.sql import SparkSession\n",
    "spark = SparkSession.builder.appName(\"spark_tutorials_1\").getOrCreate()"
   ]
  },
  {
   "cell_type": "code",
   "execution_count": 2,
   "metadata": {},
   "outputs": [],
   "source": [
    "data = [\n",
    "    (1, 'Alice', 'Female', 60000, 'HR'),\n",
    "    (2, 'Bob', 'Male', 75000, 'Engineering'),\n",
    "    (3, 'Charlie', 'Male', 50000, 'Marketing'),\n",
    "    (4, 'David', 'Male', 90000, 'Finance'),\n",
    "    (5, 'Eve', 'Female', 55000, 'HR'),\n",
    "    (6, 'Frank', 'Male', 80000, 'Engineering'),\n",
    "    (7, 'Grace', 'Female', 70000, 'Marketing'),\n",
    "    (8, 'Henry', 'Male', 62000, 'Finance'),\n",
    "    (9, 'Ivy', 'Female', 68000, 'HR'),\n",
    "    (10, 'Jack', 'Male', 72000, 'Engineering'),\n",
    "    (11, 'Kate', 'Female', 48000, 'Marketing'),\n",
    "    (12, 'Leo', 'Male', 85000, 'Finance'),\n",
    "    (13, 'Mia', 'Female', 61000, 'HR'),\n",
    "    (14, 'Nathan', 'Male', 77000, 'Engineering'),\n",
    "    (15, 'Olivia', 'Female', 69000, 'Marketing'),\n",
    "    (16, 'Peter', 'Male', 53000, 'Finance'),\n",
    "    (17, 'Quinn', 'Female', 62000, 'HR'),\n",
    "    (18, 'Ryan', 'Male', 74000, 'Engineering'),\n",
    "    (19, 'Samantha', 'Female', 68000, 'Marketing'),\n",
    "    (20, 'Tom', 'Male', 58000, 'Finance'),\n",
    "    (21, 'Uma', 'Female', 64000, 'HR'),\n",
    "    (22, 'Vincent', 'Male', 71000, 'Engineering'),\n",
    "    (23, 'Wendy', 'Female', 66000, 'Marketing'),\n",
    "    (24, 'Xavier', 'Male', 79000, 'Finance'),\n",
    "    (25, 'Yvonne', 'Female', 59000, 'HR'),\n",
    "    (26, 'Zack', 'Male', 73000, 'Engineering'),\n",
    "    (27, 'Emily', 'Female', 67000, 'Marketing'),\n",
    "    (28, 'Michael', 'Male', 82000, 'Finance'),\n",
    "    (29, 'Sophia', 'Female', 60000, 'HR'),\n",
    "    (30, 'Jacob', 'Male', 76000, 'Engineering'),\n",
    "]\n"
   ]
  },
  {
   "cell_type": "code",
   "execution_count": 6,
   "metadata": {},
   "outputs": [],
   "source": [
    "schema = [\"id\",\"name\",\"gender\",\"salary\",\"dept\"]"
   ]
  },
  {
   "cell_type": "code",
   "execution_count": 7,
   "metadata": {},
   "outputs": [],
   "source": [
    "df = spark.createDataFrame(data=data, schema=schema)"
   ]
  },
  {
   "cell_type": "code",
   "execution_count": 8,
   "metadata": {},
   "outputs": [
    {
     "name": "stderr",
     "output_type": "stream",
     "text": [
      "                                                                                \r"
     ]
    },
    {
     "name": "stdout",
     "output_type": "stream",
     "text": [
      "+---+-------+------+------+-----------+\n",
      "| id|   name|gender|salary|       dept|\n",
      "+---+-------+------+------+-----------+\n",
      "|  1|  Alice|Female| 60000|         HR|\n",
      "|  2|    Bob|  Male| 75000|Engineering|\n",
      "|  3|Charlie|  Male| 50000|  Marketing|\n",
      "|  4|  David|  Male| 90000|    Finance|\n",
      "|  5|    Eve|Female| 55000|         HR|\n",
      "+---+-------+------+------+-----------+\n",
      "only showing top 5 rows\n",
      "\n"
     ]
    }
   ],
   "source": [
    "df.show(n=5)"
   ]
  },
  {
   "cell_type": "markdown",
   "metadata": {},
   "source": [
    "count min and max aggrigate function"
   ]
  },
  {
   "cell_type": "code",
   "execution_count": 9,
   "metadata": {},
   "outputs": [
    {
     "name": "stdout",
     "output_type": "stream",
     "text": [
      "Help on method agg in module pyspark.sql.group:\n",
      "\n",
      "agg(*exprs: Union[pyspark.sql.column.Column, Dict[str, str]]) -> pyspark.sql.dataframe.DataFrame method of pyspark.sql.group.GroupedData instance\n",
      "    Compute aggregates and returns the result as a :class:`DataFrame`.\n",
      "    \n",
      "    The available aggregate functions can be:\n",
      "    \n",
      "    1. built-in aggregation functions, such as `avg`, `max`, `min`, `sum`, `count`\n",
      "    \n",
      "    2. group aggregate pandas UDFs, created with :func:`pyspark.sql.functions.pandas_udf`\n",
      "    \n",
      "       .. note:: There is no partial aggregation with group aggregate UDFs, i.e.,\n",
      "           a full shuffle is required. Also, all the data of a group will be loaded into\n",
      "           memory, so the user should be aware of the potential OOM risk if data is skewed\n",
      "           and certain groups are too large to fit in memory.\n",
      "    \n",
      "       .. seealso:: :func:`pyspark.sql.functions.pandas_udf`\n",
      "    \n",
      "    If ``exprs`` is a single :class:`dict` mapping from string to string, then the key\n",
      "    is the column to perform aggregation on, and the value is the aggregate function.\n",
      "    \n",
      "    Alternatively, ``exprs`` can also be a list of aggregate :class:`Column` expressions.\n",
      "    \n",
      "    .. versionadded:: 1.3.0\n",
      "    \n",
      "    .. versionchanged:: 3.4.0\n",
      "        Supports Spark Connect.\n",
      "    \n",
      "    Parameters\n",
      "    ----------\n",
      "    exprs : dict\n",
      "        a dict mapping from column name (string) to aggregate functions (string),\n",
      "        or a list of :class:`Column`.\n",
      "    \n",
      "    Notes\n",
      "    -----\n",
      "    Built-in aggregation functions and group aggregate pandas UDFs cannot be mixed\n",
      "    in a single call to this function.\n",
      "    \n",
      "    Examples\n",
      "    --------\n",
      "    >>> from pyspark.sql import functions as sf\n",
      "    >>> from pyspark.sql.functions import pandas_udf, PandasUDFType\n",
      "    >>> df = spark.createDataFrame(\n",
      "    ...      [(2, \"Alice\"), (3, \"Alice\"), (5, \"Bob\"), (10, \"Bob\")], [\"age\", \"name\"])\n",
      "    >>> df.show()\n",
      "    +---+-----+\n",
      "    |age| name|\n",
      "    +---+-----+\n",
      "    |  2|Alice|\n",
      "    |  3|Alice|\n",
      "    |  5|  Bob|\n",
      "    | 10|  Bob|\n",
      "    +---+-----+\n",
      "    \n",
      "    Group-by name, and count each group.\n",
      "    \n",
      "    >>> df.groupBy(df.name)\n",
      "    GroupedData[grouping...: [name...], value: [age: bigint, name: string], type: GroupBy]\n",
      "    \n",
      "    >>> df.groupBy(df.name).agg({\"*\": \"count\"}).sort(\"name\").show()\n",
      "    +-----+--------+\n",
      "    | name|count(1)|\n",
      "    +-----+--------+\n",
      "    |Alice|       2|\n",
      "    |  Bob|       2|\n",
      "    +-----+--------+\n",
      "    \n",
      "    Group-by name, and calculate the minimum age.\n",
      "    \n",
      "    >>> df.groupBy(df.name).agg(sf.min(df.age)).sort(\"name\").show()\n",
      "    +-----+--------+\n",
      "    | name|min(age)|\n",
      "    +-----+--------+\n",
      "    |Alice|       2|\n",
      "    |  Bob|       5|\n",
      "    +-----+--------+\n",
      "    \n",
      "    Same as above but uses pandas UDF.\n",
      "    \n",
      "    >>> @pandas_udf('int', PandasUDFType.GROUPED_AGG)  # doctest: +SKIP\n",
      "    ... def min_udf(v):\n",
      "    ...     return v.min()\n",
      "    ...\n",
      "    >>> df.groupBy(df.name).agg(min_udf(df.age)).sort(\"name\").show()  # doctest: +SKIP\n",
      "    +-----+------------+\n",
      "    | name|min_udf(age)|\n",
      "    +-----+------------+\n",
      "    |Alice|           2|\n",
      "    |  Bob|           5|\n",
      "    +-----+------------+\n",
      "\n"
     ]
    }
   ],
   "source": [
    "help(df.groupBy(\"dept\").agg)"
   ]
  },
  {
   "cell_type": "code",
   "execution_count": 13,
   "metadata": {},
   "outputs": [],
   "source": [
    "from pyspark.sql.functions import col, count, min, max"
   ]
  },
  {
   "cell_type": "code",
   "execution_count": 15,
   "metadata": {},
   "outputs": [
    {
     "name": "stderr",
     "output_type": "stream",
     "text": [
      "[Stage 1:>                                                          (0 + 4) / 4]\r"
     ]
    },
    {
     "name": "stdout",
     "output_type": "stream",
     "text": [
      "+-----------+------------+----------+----------+\n",
      "|       dept|Count_of_emp|min_salary|max_salary|\n",
      "+-----------+------------+----------+----------+\n",
      "|Engineering|           8|     71000|     80000|\n",
      "|         HR|           8|     55000|     68000|\n",
      "|    Finance|           7|     53000|     90000|\n",
      "|  Marketing|           7|     48000|     70000|\n",
      "+-----------+------------+----------+----------+\n",
      "\n"
     ]
    },
    {
     "name": "stderr",
     "output_type": "stream",
     "text": [
      "                                                                                \r"
     ]
    }
   ],
   "source": [
    "df1 = df.groupBy(col(\"dept\")).agg(  count(\"*\").alias(\"Count_of_emp\"), \\\n",
    "                                    min(\"salary\").alias(\"min_salary\"), \\\n",
    "                                    max(\"salary\").alias(\"max_salary\") \\\n",
    "                                )\n",
    "df1.show()"
   ]
  },
  {
   "cell_type": "code",
   "execution_count": null,
   "metadata": {},
   "outputs": [],
   "source": []
  }
 ],
 "metadata": {
  "kernelspec": {
   "display_name": "Python 3",
   "language": "python",
   "name": "python3"
  },
  "language_info": {
   "codemirror_mode": {
    "name": "ipython",
    "version": 3
   },
   "file_extension": ".py",
   "mimetype": "text/x-python",
   "name": "python",
   "nbconvert_exporter": "python",
   "pygments_lexer": "ipython3",
   "version": "3.10.12"
  }
 },
 "nbformat": 4,
 "nbformat_minor": 2
}
