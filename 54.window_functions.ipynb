{
 "cells": [
  {
   "cell_type": "code",
   "execution_count": 1,
   "metadata": {},
   "outputs": [
    {
     "name": "stderr",
     "output_type": "stream",
     "text": [
      "24/06/29 22:35:30 WARN Utils: Your hostname, akshay-vm resolves to a loopback address: 127.0.1.1; using 10.0.2.15 instead (on interface enp0s3)\n",
      "24/06/29 22:35:30 WARN Utils: Set SPARK_LOCAL_IP if you need to bind to another address\n",
      "Setting default log level to \"WARN\".\n",
      "To adjust logging level use sc.setLogLevel(newLevel). For SparkR, use setLogLevel(newLevel).\n",
      "24/06/29 22:35:31 WARN NativeCodeLoader: Unable to load native-hadoop library for your platform... using builtin-java classes where applicable\n",
      "24/06/29 22:35:34 WARN Utils: Service 'SparkUI' could not bind on port 4040. Attempting port 4041.\n"
     ]
    }
   ],
   "source": [
    "import findspark\n",
    "findspark.init('/home/akshay/spark-3.5.1-bin-hadoop3')\n",
    "from pyspark.sql import SparkSession\n",
    "spark = SparkSession.builder.appName(\"spark_tutorials_1\").getOrCreate()"
   ]
  },
  {
   "cell_type": "code",
   "execution_count": 2,
   "metadata": {},
   "outputs": [],
   "source": [
    "data = [\n",
    "    (1, \"Alice\", \"Female\", 60000, \"HR\"),\n",
    "    (2, \"Bob\", \"Male\", 80000, \"Engineering\"),\n",
    "    (3, \"Charlie\", \"Male\", 75000, \"HR\"),\n",
    "    (4, \"Diana\", \"Female\", 90000, \"Finance\"),\n",
    "    (5, \"Eve\", \"Female\", 70000, \"Engineering\"),\n",
    "    (6, \"Frank\", \"Male\", 85000, \"HR\"),\n",
    "    (7, \"Gina\", \"Female\", 65000, \"Finance\"),\n",
    "    (8, \"Henry\", \"Male\", 95000, \"Finance\"),\n",
    "    (9, \"Irene\", \"Female\", 72000, \"Engineering\"),\n",
    "    (10, \"John\", \"Male\", 78000, \"HR\"),\n",
    "    (10, \"Stew\", \"Male\", 78000, \"HR\")\n",
    "]"
   ]
  },
  {
   "cell_type": "code",
   "execution_count": 3,
   "metadata": {},
   "outputs": [],
   "source": [
    "schema = [\"id\",\"name\",\"gender\",\"salary\",\"dept\"]"
   ]
  },
  {
   "cell_type": "code",
   "execution_count": 4,
   "metadata": {},
   "outputs": [
    {
     "name": "stderr",
     "output_type": "stream",
     "text": [
      "                                                                                \r"
     ]
    },
    {
     "name": "stdout",
     "output_type": "stream",
     "text": [
      "+---+-------+------+------+-----------+\n",
      "| id|   name|gender|salary|       dept|\n",
      "+---+-------+------+------+-----------+\n",
      "|  1|  Alice|Female| 60000|         HR|\n",
      "|  2|    Bob|  Male| 80000|Engineering|\n",
      "|  3|Charlie|  Male| 75000|         HR|\n",
      "|  4|  Diana|Female| 90000|    Finance|\n",
      "|  5|    Eve|Female| 70000|Engineering|\n",
      "|  6|  Frank|  Male| 85000|         HR|\n",
      "|  7|   Gina|Female| 65000|    Finance|\n",
      "|  8|  Henry|  Male| 95000|    Finance|\n",
      "|  9|  Irene|Female| 72000|Engineering|\n",
      "| 10|   John|  Male| 78000|         HR|\n",
      "| 10|   Stew|  Male| 78000|         HR|\n",
      "+---+-------+------+------+-----------+\n",
      "\n"
     ]
    }
   ],
   "source": [
    "df = spark.createDataFrame(data=data, schema=schema)\n",
    "df.show()"
   ]
  },
  {
   "cell_type": "code",
   "execution_count": 5,
   "metadata": {},
   "outputs": [],
   "source": [
    "from pyspark.sql.functions import row_number, rank, dense_rank\n",
    "from pyspark.sql.window import Window"
   ]
  },
  {
   "cell_type": "code",
   "execution_count": 6,
   "metadata": {},
   "outputs": [],
   "source": [
    "window = Window.partitionBy(\"dept\").orderBy(\"salary\")"
   ]
  },
  {
   "cell_type": "code",
   "execution_count": 7,
   "metadata": {},
   "outputs": [
    {
     "name": "stderr",
     "output_type": "stream",
     "text": [
      "[Stage 2:>                                                          (0 + 4) / 4]\r"
     ]
    },
    {
     "name": "stdout",
     "output_type": "stream",
     "text": [
      "+---+-------+------+------+-----------+----------+\n",
      "| id|   name|gender|salary|       dept|row_number|\n",
      "+---+-------+------+------+-----------+----------+\n",
      "|  5|    Eve|Female| 70000|Engineering|         1|\n",
      "|  9|  Irene|Female| 72000|Engineering|         2|\n",
      "|  2|    Bob|  Male| 80000|Engineering|         3|\n",
      "|  7|   Gina|Female| 65000|    Finance|         1|\n",
      "|  4|  Diana|Female| 90000|    Finance|         2|\n",
      "|  8|  Henry|  Male| 95000|    Finance|         3|\n",
      "|  1|  Alice|Female| 60000|         HR|         1|\n",
      "|  3|Charlie|  Male| 75000|         HR|         2|\n",
      "| 10|   John|  Male| 78000|         HR|         3|\n",
      "| 10|   Stew|  Male| 78000|         HR|         4|\n",
      "|  6|  Frank|  Male| 85000|         HR|         5|\n",
      "+---+-------+------+------+-----------+----------+\n",
      "\n"
     ]
    },
    {
     "name": "stderr",
     "output_type": "stream",
     "text": [
      "                                                                                \r"
     ]
    }
   ],
   "source": [
    "df1 = df.withColumn(\"row_number\", row_number().over(window))\n",
    "df1.show()"
   ]
  },
  {
   "cell_type": "code",
   "execution_count": 8,
   "metadata": {},
   "outputs": [
    {
     "name": "stdout",
     "output_type": "stream",
     "text": [
      "+---+-------+------+------+-----------+----------+----+\n",
      "| id|   name|gender|salary|       dept|row_number|rank|\n",
      "+---+-------+------+------+-----------+----------+----+\n",
      "|  5|    Eve|Female| 70000|Engineering|         1|   1|\n",
      "|  9|  Irene|Female| 72000|Engineering|         2|   2|\n",
      "|  2|    Bob|  Male| 80000|Engineering|         3|   3|\n",
      "|  7|   Gina|Female| 65000|    Finance|         1|   1|\n",
      "|  4|  Diana|Female| 90000|    Finance|         2|   2|\n",
      "|  8|  Henry|  Male| 95000|    Finance|         3|   3|\n",
      "|  1|  Alice|Female| 60000|         HR|         1|   1|\n",
      "|  3|Charlie|  Male| 75000|         HR|         2|   2|\n",
      "| 10|   John|  Male| 78000|         HR|         3|   3|\n",
      "| 10|   Stew|  Male| 78000|         HR|         4|   3|\n",
      "|  6|  Frank|  Male| 85000|         HR|         5|   5|\n",
      "+---+-------+------+------+-----------+----------+----+\n",
      "\n"
     ]
    }
   ],
   "source": [
    "df2 = df1.withColumn(\"rank\", rank().over(window))\n",
    "df2.show()"
   ]
  },
  {
   "cell_type": "code",
   "execution_count": 9,
   "metadata": {},
   "outputs": [
    {
     "name": "stdout",
     "output_type": "stream",
     "text": [
      "+---+-------+------+------+-----------+----------+----+---------+\n",
      "| id|   name|gender|salary|       dept|row_number|rank|dens_rank|\n",
      "+---+-------+------+------+-----------+----------+----+---------+\n",
      "|  5|    Eve|Female| 70000|Engineering|         1|   1|        1|\n",
      "|  9|  Irene|Female| 72000|Engineering|         2|   2|        2|\n",
      "|  2|    Bob|  Male| 80000|Engineering|         3|   3|        3|\n",
      "|  7|   Gina|Female| 65000|    Finance|         1|   1|        1|\n",
      "|  4|  Diana|Female| 90000|    Finance|         2|   2|        2|\n",
      "|  8|  Henry|  Male| 95000|    Finance|         3|   3|        3|\n",
      "|  1|  Alice|Female| 60000|         HR|         1|   1|        1|\n",
      "|  3|Charlie|  Male| 75000|         HR|         2|   2|        2|\n",
      "| 10|   John|  Male| 78000|         HR|         3|   3|        3|\n",
      "| 10|   Stew|  Male| 78000|         HR|         4|   3|        3|\n",
      "|  6|  Frank|  Male| 85000|         HR|         5|   5|        4|\n",
      "+---+-------+------+------+-----------+----------+----+---------+\n",
      "\n"
     ]
    }
   ],
   "source": [
    "df3 = df2.withColumn(\"dens_rank\", dense_rank().over(window))\n",
    "df3.show()"
   ]
  },
  {
   "cell_type": "code",
   "execution_count": null,
   "metadata": {},
   "outputs": [],
   "source": []
  }
 ],
 "metadata": {
  "kernelspec": {
   "display_name": "Python 3",
   "language": "python",
   "name": "python3"
  },
  "language_info": {
   "codemirror_mode": {
    "name": "ipython",
    "version": 3
   },
   "file_extension": ".py",
   "mimetype": "text/x-python",
   "name": "python",
   "nbconvert_exporter": "python",
   "pygments_lexer": "ipython3",
   "version": "3.10.12"
  }
 },
 "nbformat": 4,
 "nbformat_minor": 2
}
