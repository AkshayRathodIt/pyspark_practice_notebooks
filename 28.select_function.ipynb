{
 "cells": [
  {
   "cell_type": "code",
   "execution_count": 1,
   "metadata": {},
   "outputs": [
    {
     "name": "stderr",
     "output_type": "stream",
     "text": [
      "24/06/22 09:41:12 WARN Utils: Your hostname, akshay-vm resolves to a loopback address: 127.0.1.1; using 10.0.2.15 instead (on interface enp0s3)\n",
      "24/06/22 09:41:12 WARN Utils: Set SPARK_LOCAL_IP if you need to bind to another address\n",
      "Setting default log level to \"WARN\".\n",
      "To adjust logging level use sc.setLogLevel(newLevel). For SparkR, use setLogLevel(newLevel).\n",
      "24/06/22 09:41:15 WARN NativeCodeLoader: Unable to load native-hadoop library for your platform... using builtin-java classes where applicable\n"
     ]
    }
   ],
   "source": [
    "import findspark\n",
    "findspark.init('/home/akshay/spark-3.5.1-bin-hadoop3')\n",
    "from pyspark.sql import SparkSession\n",
    "spark = SparkSession.builder.appName(\"spark_tutorials_1\").getOrCreate()"
   ]
  },
  {
   "cell_type": "code",
   "execution_count": 2,
   "metadata": {},
   "outputs": [],
   "source": [
    "data = [\n",
    "    (1, 'Alice', 'Female', 60000, 'HR'),\n",
    "    (2, 'Bob', 'Male', 75000, 'Engineering'),\n",
    "    (3, 'Charlie', 'Male', 50000, 'Marketing'),\n",
    "    (4, 'David', 'Male', 90000, 'Finance'),\n",
    "    (5, 'Eve', 'Female', 55000, 'HR'),\n",
    "    (6, 'Frank', 'Male', 80000, 'Engineering'),\n",
    "    (7, 'Grace', 'Female', 70000, 'Marketing'),\n",
    "    (8, 'Henry', 'Male', 62000, 'Finance'),\n",
    "    (9, 'Ivy', 'Female', 68000, 'HR'),\n",
    "    (10, 'Jack', 'Male', 72000, 'Engineering'),\n",
    "    (11, 'Kate', 'Female', 48000, 'Marketing'),\n",
    "    (12, 'Leo', 'Male', 85000, 'Finance'),\n",
    "    (13, 'Mia', 'Female', 61000, 'HR'),\n",
    "    (14, 'Nathan', 'Male', 77000, 'Engineering'),\n",
    "    (15, 'Olivia', 'Female', 69000, 'Marketing'),\n",
    "    (16, 'Peter', 'Male', 53000, 'Finance'),\n",
    "    (17, 'Quinn', 'Female', 62000, 'HR'),\n",
    "    (18, 'Ryan', 'Male', 74000, 'Engineering'),\n",
    "    (19, 'Samantha', 'Female', 68000, 'Marketing'),\n",
    "    (20, 'Tom', 'Male', 58000, 'Finance'),\n",
    "    (21, 'Uma', 'Female', 64000, 'HR'),\n",
    "    (22, 'Vincent', 'Male', 71000, 'Engineering'),\n",
    "    (23, 'Wendy', 'Female', 66000, 'Marketing'),\n",
    "    (24, 'Xavier', 'Male', 79000, 'Finance'),\n",
    "    (25, 'Yvonne', 'Female', 59000, 'HR'),\n",
    "    (26, 'Zack', 'Male', 73000, 'Engineering'),\n",
    "    (27, 'Emily', 'Female', 67000, 'Marketing'),\n",
    "    (28, 'Michael', 'Male', 82000, 'Finance'),\n",
    "    (29, 'Sophia', 'Female', 60000, 'HR'),\n",
    "    (30, 'Jacob', 'Male', 76000, 'Engineering'),\n",
    "]\n"
   ]
  },
  {
   "cell_type": "code",
   "execution_count": 3,
   "metadata": {},
   "outputs": [],
   "source": [
    "schema = [\"id\",\"name\",\"gender\",\"salary\",\"dept\"]"
   ]
  },
  {
   "cell_type": "code",
   "execution_count": 4,
   "metadata": {},
   "outputs": [],
   "source": [
    "df = spark.createDataFrame(data=data, schema=schema)"
   ]
  },
  {
   "cell_type": "code",
   "execution_count": 5,
   "metadata": {},
   "outputs": [
    {
     "name": "stderr",
     "output_type": "stream",
     "text": [
      "                                                                                \r"
     ]
    },
    {
     "name": "stdout",
     "output_type": "stream",
     "text": [
      "+---+--------+------+------+-----------+\n",
      "| id|    name|gender|salary|       dept|\n",
      "+---+--------+------+------+-----------+\n",
      "|  1|   Alice|Female| 60000|         HR|\n",
      "|  2|     Bob|  Male| 75000|Engineering|\n",
      "|  3| Charlie|  Male| 50000|  Marketing|\n",
      "|  4|   David|  Male| 90000|    Finance|\n",
      "|  5|     Eve|Female| 55000|         HR|\n",
      "|  6|   Frank|  Male| 80000|Engineering|\n",
      "|  7|   Grace|Female| 70000|  Marketing|\n",
      "|  8|   Henry|  Male| 62000|    Finance|\n",
      "|  9|     Ivy|Female| 68000|         HR|\n",
      "| 10|    Jack|  Male| 72000|Engineering|\n",
      "| 11|    Kate|Female| 48000|  Marketing|\n",
      "| 12|     Leo|  Male| 85000|    Finance|\n",
      "| 13|     Mia|Female| 61000|         HR|\n",
      "| 14|  Nathan|  Male| 77000|Engineering|\n",
      "| 15|  Olivia|Female| 69000|  Marketing|\n",
      "| 16|   Peter|  Male| 53000|    Finance|\n",
      "| 17|   Quinn|Female| 62000|         HR|\n",
      "| 18|    Ryan|  Male| 74000|Engineering|\n",
      "| 19|Samantha|Female| 68000|  Marketing|\n",
      "| 20|     Tom|  Male| 58000|    Finance|\n",
      "+---+--------+------+------+-----------+\n",
      "only showing top 20 rows\n",
      "\n"
     ]
    }
   ],
   "source": [
    "df.show()"
   ]
  },
  {
   "cell_type": "code",
   "execution_count": 6,
   "metadata": {},
   "outputs": [
    {
     "name": "stdout",
     "output_type": "stream",
     "text": [
      "Help on method select in module pyspark.sql.dataframe:\n",
      "\n",
      "select(*cols: 'ColumnOrName') -> 'DataFrame' method of pyspark.sql.dataframe.DataFrame instance\n",
      "    Projects a set of expressions and returns a new :class:`DataFrame`.\n",
      "    \n",
      "    .. versionadded:: 1.3.0\n",
      "    \n",
      "    .. versionchanged:: 3.4.0\n",
      "        Supports Spark Connect.\n",
      "    \n",
      "    Parameters\n",
      "    ----------\n",
      "    cols : str, :class:`Column`, or list\n",
      "        column names (string) or expressions (:class:`Column`).\n",
      "        If one of the column names is '*', that column is expanded to include all columns\n",
      "        in the current :class:`DataFrame`.\n",
      "    \n",
      "    Returns\n",
      "    -------\n",
      "    :class:`DataFrame`\n",
      "        A DataFrame with subset (or all) of columns.\n",
      "    \n",
      "    Examples\n",
      "    --------\n",
      "    >>> df = spark.createDataFrame([\n",
      "    ...     (2, \"Alice\"), (5, \"Bob\")], schema=[\"age\", \"name\"])\n",
      "    \n",
      "    Select all columns in the DataFrame.\n",
      "    \n",
      "    >>> df.select('*').show()\n",
      "    +---+-----+\n",
      "    |age| name|\n",
      "    +---+-----+\n",
      "    |  2|Alice|\n",
      "    |  5|  Bob|\n",
      "    +---+-----+\n",
      "    \n",
      "    Select a column with other expressions in the DataFrame.\n",
      "    \n",
      "    >>> df.select(df.name, (df.age + 10).alias('age')).show()\n",
      "    +-----+---+\n",
      "    | name|age|\n",
      "    +-----+---+\n",
      "    |Alice| 12|\n",
      "    |  Bob| 15|\n",
      "    +-----+---+\n",
      "\n"
     ]
    }
   ],
   "source": [
    "help(df.select)"
   ]
  },
  {
   "cell_type": "code",
   "execution_count": 8,
   "metadata": {},
   "outputs": [
    {
     "name": "stdout",
     "output_type": "stream",
     "text": [
      "+---+--------+\n",
      "| id|    name|\n",
      "+---+--------+\n",
      "|  1|   Alice|\n",
      "|  2|     Bob|\n",
      "|  3| Charlie|\n",
      "|  4|   David|\n",
      "|  5|     Eve|\n",
      "|  6|   Frank|\n",
      "|  7|   Grace|\n",
      "|  8|   Henry|\n",
      "|  9|     Ivy|\n",
      "| 10|    Jack|\n",
      "| 11|    Kate|\n",
      "| 12|     Leo|\n",
      "| 13|     Mia|\n",
      "| 14|  Nathan|\n",
      "| 15|  Olivia|\n",
      "| 16|   Peter|\n",
      "| 17|   Quinn|\n",
      "| 18|    Ryan|\n",
      "| 19|Samantha|\n",
      "| 20|     Tom|\n",
      "+---+--------+\n",
      "only showing top 20 rows\n",
      "\n"
     ]
    }
   ],
   "source": [
    "df.select(\"id\",\"name\").show()"
   ]
  },
  {
   "cell_type": "code",
   "execution_count": 9,
   "metadata": {},
   "outputs": [
    {
     "name": "stdout",
     "output_type": "stream",
     "text": [
      "+---+-------+\n",
      "| id|   name|\n",
      "+---+-------+\n",
      "|  1|  Alice|\n",
      "|  2|    Bob|\n",
      "|  3|Charlie|\n",
      "|  4|  David|\n",
      "|  5|    Eve|\n",
      "+---+-------+\n",
      "only showing top 5 rows\n",
      "\n"
     ]
    }
   ],
   "source": [
    "df.select(df[\"id\"],df[\"name\"]).show(n=5)"
   ]
  },
  {
   "cell_type": "code",
   "execution_count": 10,
   "metadata": {},
   "outputs": [
    {
     "name": "stdout",
     "output_type": "stream",
     "text": [
      "+---+-------+\n",
      "| id|   name|\n",
      "+---+-------+\n",
      "|  1|  Alice|\n",
      "|  2|    Bob|\n",
      "|  3|Charlie|\n",
      "|  4|  David|\n",
      "|  5|    Eve|\n",
      "+---+-------+\n",
      "only showing top 5 rows\n",
      "\n"
     ]
    }
   ],
   "source": [
    "from pyspark.sql.functions import col\n",
    "\n",
    "df.select(col(\"id\"), col(\"name\")).show(n=5)"
   ]
  },
  {
   "cell_type": "code",
   "execution_count": 12,
   "metadata": {},
   "outputs": [
    {
     "name": "stdout",
     "output_type": "stream",
     "text": [
      "+---+-------+\n",
      "| id|   name|\n",
      "+---+-------+\n",
      "|  1|  Alice|\n",
      "|  2|    Bob|\n",
      "|  3|Charlie|\n",
      "|  4|  David|\n",
      "|  5|    Eve|\n",
      "+---+-------+\n",
      "only showing top 5 rows\n",
      "\n"
     ]
    }
   ],
   "source": [
    "df.select([\"id\",\"name\"]).show(n=5)"
   ]
  },
  {
   "cell_type": "code",
   "execution_count": 13,
   "metadata": {},
   "outputs": [
    {
     "name": "stdout",
     "output_type": "stream",
     "text": [
      "+---+-------+------+------+-----------+\n",
      "| id|   name|gender|salary|       dept|\n",
      "+---+-------+------+------+-----------+\n",
      "|  1|  Alice|Female| 60000|         HR|\n",
      "|  2|    Bob|  Male| 75000|Engineering|\n",
      "|  3|Charlie|  Male| 50000|  Marketing|\n",
      "|  4|  David|  Male| 90000|    Finance|\n",
      "|  5|    Eve|Female| 55000|         HR|\n",
      "+---+-------+------+------+-----------+\n",
      "only showing top 5 rows\n",
      "\n"
     ]
    }
   ],
   "source": [
    "df.select(\"*\").show(n=5)"
   ]
  },
  {
   "cell_type": "code",
   "execution_count": 14,
   "metadata": {},
   "outputs": [
    {
     "name": "stdout",
     "output_type": "stream",
     "text": [
      "+---+-------+------+------+-----------+\n",
      "| id|   name|gender|salary|       dept|\n",
      "+---+-------+------+------+-----------+\n",
      "|  1|  Alice|Female| 60000|         HR|\n",
      "|  2|    Bob|  Male| 75000|Engineering|\n",
      "|  3|Charlie|  Male| 50000|  Marketing|\n",
      "|  4|  David|  Male| 90000|    Finance|\n",
      "|  5|    Eve|Female| 55000|         HR|\n",
      "+---+-------+------+------+-----------+\n",
      "only showing top 5 rows\n",
      "\n"
     ]
    }
   ],
   "source": [
    "df.select([col for col in df.columns]).show(n=5)"
   ]
  },
  {
   "cell_type": "code",
   "execution_count": null,
   "metadata": {},
   "outputs": [],
   "source": []
  }
 ],
 "metadata": {
  "kernelspec": {
   "display_name": "Python 3",
   "language": "python",
   "name": "python3"
  },
  "language_info": {
   "codemirror_mode": {
    "name": "ipython",
    "version": 3
   },
   "file_extension": ".py",
   "mimetype": "text/x-python",
   "name": "python",
   "nbconvert_exporter": "python",
   "pygments_lexer": "ipython3",
   "version": "3.10.12"
  }
 },
 "nbformat": 4,
 "nbformat_minor": 2
}
