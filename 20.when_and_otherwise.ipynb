{
 "cells": [
  {
   "cell_type": "code",
   "execution_count": 1,
   "metadata": {},
   "outputs": [
    {
     "name": "stderr",
     "output_type": "stream",
     "text": [
      "24/06/13 22:46:27 WARN Utils: Your hostname, akshay-vm resolves to a loopback address: 127.0.1.1; using 10.0.2.15 instead (on interface enp0s3)\n",
      "24/06/13 22:46:27 WARN Utils: Set SPARK_LOCAL_IP if you need to bind to another address\n",
      "Setting default log level to \"WARN\".\n",
      "To adjust logging level use sc.setLogLevel(newLevel). For SparkR, use setLogLevel(newLevel).\n",
      "24/06/13 22:46:28 WARN NativeCodeLoader: Unable to load native-hadoop library for your platform... using builtin-java classes where applicable\n"
     ]
    }
   ],
   "source": [
    "import findspark\n",
    "findspark.init('/home/akshay/spark-3.5.1-bin-hadoop3')\n",
    "from pyspark.sql import SparkSession\n",
    "spark = SparkSession.builder.appName(\"spark_tutorials_1\").getOrCreate()"
   ]
  },
  {
   "cell_type": "code",
   "execution_count": 5,
   "metadata": {},
   "outputs": [],
   "source": [
    "data = [\n",
    "    (1, 'Alice', 'F', 50000),\n",
    "    (2, 'Bob', 'M', 60000),\n",
    "    (3, 'Charlie', 'M', 55000),\n",
    "    (4, 'David', 'M', 62000),\n",
    "    (5, 'Eve', 'F', 51000),\n",
    "    (6, 'Fiona', 'F', 48000),\n",
    "    (7, 'George', 'M', 59000),\n",
    "    (8, 'Hannah', 'F', 54000),\n",
    "    (9, 'Ian', 'M', 63000),\n",
    "    (10, 'Jane', 'F', 52000),\n",
    "    (11, 'Kevin', 'M', 58000),\n",
    "    (12, 'Lily', 'F', 49000),\n",
    "    (13, 'Mike', 'M', 64000),\n",
    "    (14, 'Nora', 'F', 56000),\n",
    "    (15, 'Oscar', 'M', 67000),\n",
    "    (16, 'Pam', 'F', 53000),\n",
    "    (17, 'Quinn', '', 61000),\n",
    "    (18, 'Rachel', '', 57000),\n",
    "    (19, 'Sam', 'M', 65000),\n",
    "    (20, 'Tina', 'F', 59000)\n",
    "]\n"
   ]
  },
  {
   "cell_type": "code",
   "execution_count": 4,
   "metadata": {},
   "outputs": [],
   "source": [
    "schema = [\"id\",\"name\",\"gender\",\"salary\"]"
   ]
  },
  {
   "cell_type": "code",
   "execution_count": 6,
   "metadata": {},
   "outputs": [
    {
     "name": "stderr",
     "output_type": "stream",
     "text": [
      "                                                                                \r"
     ]
    },
    {
     "name": "stdout",
     "output_type": "stream",
     "text": [
      "+---+-------+------+------+\n",
      "| id|   name|gender|salary|\n",
      "+---+-------+------+------+\n",
      "|  1|  Alice|     F| 50000|\n",
      "|  2|    Bob|     M| 60000|\n",
      "|  3|Charlie|     M| 55000|\n",
      "|  4|  David|     M| 62000|\n",
      "|  5|    Eve|     F| 51000|\n",
      "|  6|  Fiona|     F| 48000|\n",
      "|  7| George|     M| 59000|\n",
      "|  8| Hannah|     F| 54000|\n",
      "|  9|    Ian|     M| 63000|\n",
      "| 10|   Jane|     F| 52000|\n",
      "| 11|  Kevin|     M| 58000|\n",
      "| 12|   Lily|     F| 49000|\n",
      "| 13|   Mike|     M| 64000|\n",
      "| 14|   Nora|     F| 56000|\n",
      "| 15|  Oscar|     M| 67000|\n",
      "| 16|    Pam|     F| 53000|\n",
      "| 17|  Quinn|      | 61000|\n",
      "| 18| Rachel|      | 57000|\n",
      "| 19|    Sam|     M| 65000|\n",
      "| 20|   Tina|     F| 59000|\n",
      "+---+-------+------+------+\n",
      "\n"
     ]
    }
   ],
   "source": [
    "df = spark.createDataFrame(data=data, schema=schema)\n",
    "df.show()"
   ]
  },
  {
   "cell_type": "code",
   "execution_count": 8,
   "metadata": {},
   "outputs": [],
   "source": [
    "from pyspark.sql.functions import when, col, a"
   ]
  },
  {
   "cell_type": "code",
   "execution_count": 15,
   "metadata": {},
   "outputs": [],
   "source": [
    "df1 = df.select(col(\"id\"), \\\n",
    "                col(\"name\"), \\\n",
    "                col(\"salary\"), \\\n",
    "                when(condition=df.gender == \"M\", value=\"Male\"). \\\n",
    "                    when(condition=df.gender == \"F\", value=\"Female\"). \\\n",
    "                    otherwise(\"unknown\"). \\\n",
    "                    alias(\"gender\") \\\n",
    "                )"
   ]
  },
  {
   "cell_type": "code",
   "execution_count": 16,
   "metadata": {},
   "outputs": [
    {
     "name": "stdout",
     "output_type": "stream",
     "text": [
      "+---+-------+------+-------+\n",
      "| id|   name|salary| gender|\n",
      "+---+-------+------+-------+\n",
      "|  1|  Alice| 50000| Female|\n",
      "|  2|    Bob| 60000|   Male|\n",
      "|  3|Charlie| 55000|   Male|\n",
      "|  4|  David| 62000|   Male|\n",
      "|  5|    Eve| 51000| Female|\n",
      "|  6|  Fiona| 48000| Female|\n",
      "|  7| George| 59000|   Male|\n",
      "|  8| Hannah| 54000| Female|\n",
      "|  9|    Ian| 63000|   Male|\n",
      "| 10|   Jane| 52000| Female|\n",
      "| 11|  Kevin| 58000|   Male|\n",
      "| 12|   Lily| 49000| Female|\n",
      "| 13|   Mike| 64000|   Male|\n",
      "| 14|   Nora| 56000| Female|\n",
      "| 15|  Oscar| 67000|   Male|\n",
      "| 16|    Pam| 53000| Female|\n",
      "| 17|  Quinn| 61000|unknown|\n",
      "| 18| Rachel| 57000|unknown|\n",
      "| 19|    Sam| 65000|   Male|\n",
      "| 20|   Tina| 59000| Female|\n",
      "+---+-------+------+-------+\n",
      "\n"
     ]
    }
   ],
   "source": [
    "df1.show()"
   ]
  },
  {
   "cell_type": "code",
   "execution_count": null,
   "metadata": {},
   "outputs": [],
   "source": []
  }
 ],
 "metadata": {
  "kernelspec": {
   "display_name": "Python 3",
   "language": "python",
   "name": "python3"
  },
  "language_info": {
   "codemirror_mode": {
    "name": "ipython",
    "version": 3
   },
   "file_extension": ".py",
   "mimetype": "text/x-python",
   "name": "python",
   "nbconvert_exporter": "python",
   "pygments_lexer": "ipython3",
   "version": "3.10.12"
  }
 },
 "nbformat": 4,
 "nbformat_minor": 2
}
