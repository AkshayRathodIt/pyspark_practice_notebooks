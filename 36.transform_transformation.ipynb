{
 "cells": [
  {
   "cell_type": "code",
   "execution_count": 1,
   "metadata": {},
   "outputs": [
    {
     "name": "stderr",
     "output_type": "stream",
     "text": [
      "24/06/23 21:58:39 WARN Utils: Your hostname, akshay-vm resolves to a loopback address: 127.0.1.1; using 10.0.2.15 instead (on interface enp0s3)\n",
      "24/06/23 21:58:39 WARN Utils: Set SPARK_LOCAL_IP if you need to bind to another address\n",
      "Setting default log level to \"WARN\".\n",
      "To adjust logging level use sc.setLogLevel(newLevel). For SparkR, use setLogLevel(newLevel).\n",
      "24/06/23 21:58:41 WARN NativeCodeLoader: Unable to load native-hadoop library for your platform... using builtin-java classes where applicable\n"
     ]
    }
   ],
   "source": [
    "import findspark\n",
    "findspark.init('/home/akshay/spark-3.5.1-bin-hadoop3')\n",
    "from pyspark.sql import SparkSession\n",
    "spark = SparkSession.builder.appName(\"spark_tutorials_1\").getOrCreate()"
   ]
  },
  {
   "cell_type": "code",
   "execution_count": 2,
   "metadata": {},
   "outputs": [],
   "source": [
    "data = [\n",
    "    (1, \"Alice\", \"Female\", 60000, \"HR\"),\n",
    "    (2, \"Bob\", \"Male\", 80000, \"Engineering\"),\n",
    "    (3, \"Charlie\", \"Male\", 75000, \"Marketing\"),\n",
    "    (4, \"Diana\", \"Female\", 90000, \"Finance\"),\n",
    "    (5, \"Eve\", \"Female\", 70000, \"Engineering\"),]"
   ]
  },
  {
   "cell_type": "markdown",
   "metadata": {},
   "source": [
    "### PySpark `transform` Function: Overview and Usage\n",
    "\n",
    "The `transform` function in PySpark is used to apply a function to each element (row) of a DataFrame or RDD independently and return a new DataFrame or RDD with the transformed elements. It operates similarly to `map` in RDDs but extends to DataFrames and allows for more concise and readable code.\n",
    "\n",
    "#### Syntax\n",
    "\n",
    "For DataFrames:\n",
    "```python\n",
    "# Assuming 'df' is a DataFrame\n",
    "transformed_df = df.rdd.map(lambda row: transformation_function(row)).toDF(df.schema)\n"
   ]
  },
  {
   "cell_type": "code",
   "execution_count": 3,
   "metadata": {},
   "outputs": [],
   "source": [
    "schema = [\"id\", \"name\", \"gender\",\"salary\",\"dept\"]"
   ]
  },
  {
   "cell_type": "code",
   "execution_count": 4,
   "metadata": {},
   "outputs": [
    {
     "name": "stderr",
     "output_type": "stream",
     "text": [
      "                                                                                \r"
     ]
    },
    {
     "name": "stdout",
     "output_type": "stream",
     "text": [
      "+---+-------+------+------+-----------+\n",
      "| id|   name|gender|salary|       dept|\n",
      "+---+-------+------+------+-----------+\n",
      "|  1|  Alice|Female| 60000|         HR|\n",
      "|  2|    Bob|  Male| 80000|Engineering|\n",
      "|  3|Charlie|  Male| 75000|  Marketing|\n",
      "|  4|  Diana|Female| 90000|    Finance|\n",
      "|  5|    Eve|Female| 70000|Engineering|\n",
      "+---+-------+------+------+-----------+\n",
      "\n"
     ]
    }
   ],
   "source": [
    "df = spark.createDataFrame(data=data, schema=schema)\n",
    "df.show()"
   ]
  },
  {
   "cell_type": "markdown",
   "metadata": {},
   "source": [
    "convert the names to uppercase and double the salary"
   ]
  },
  {
   "cell_type": "code",
   "execution_count": 5,
   "metadata": {},
   "outputs": [],
   "source": [
    "from pyspark.sql.functions import upper, col"
   ]
  },
  {
   "cell_type": "code",
   "execution_count": 6,
   "metadata": {},
   "outputs": [],
   "source": [
    "def convertToUpperAndDoubleSalary(df):\n",
    "    df1 = df.withColumn(\"name\", upper(col(\"name\")))\n",
    "    df2 = df1.withColumn(\"salary\", df1.salary*2)\n",
    "    return df2"
   ]
  },
  {
   "cell_type": "code",
   "execution_count": 7,
   "metadata": {},
   "outputs": [
    {
     "name": "stdout",
     "output_type": "stream",
     "text": [
      "+---+-------+------+------+-----------+\n",
      "| id|   name|gender|salary|       dept|\n",
      "+---+-------+------+------+-----------+\n",
      "|  1|  Alice|Female| 60000|         HR|\n",
      "|  2|    Bob|  Male| 80000|Engineering|\n",
      "|  3|Charlie|  Male| 75000|  Marketing|\n",
      "|  4|  Diana|Female| 90000|    Finance|\n",
      "|  5|    Eve|Female| 70000|Engineering|\n",
      "+---+-------+------+------+-----------+\n",
      "\n",
      "+---+-------+------+------+-----------+\n",
      "| id|   name|gender|salary|       dept|\n",
      "+---+-------+------+------+-----------+\n",
      "|  1|  ALICE|Female|120000|         HR|\n",
      "|  2|    BOB|  Male|160000|Engineering|\n",
      "|  3|CHARLIE|  Male|150000|  Marketing|\n",
      "|  4|  DIANA|Female|180000|    Finance|\n",
      "|  5|    EVE|Female|140000|Engineering|\n",
      "+---+-------+------+------+-----------+\n",
      "\n"
     ]
    }
   ],
   "source": [
    "df.show()\n",
    "df3 = df.transform(convertToUpperAndDoubleSalary)\n",
    "df3.show()"
   ]
  },
  {
   "cell_type": "code",
   "execution_count": null,
   "metadata": {},
   "outputs": [],
   "source": []
  }
 ],
 "metadata": {
  "kernelspec": {
   "display_name": "Python 3",
   "language": "python",
   "name": "python3"
  },
  "language_info": {
   "codemirror_mode": {
    "name": "ipython",
    "version": 3
   },
   "file_extension": ".py",
   "mimetype": "text/x-python",
   "name": "python",
   "nbconvert_exporter": "python",
   "pygments_lexer": "ipython3",
   "version": "3.10.12"
  }
 },
 "nbformat": 4,
 "nbformat_minor": 2
}
