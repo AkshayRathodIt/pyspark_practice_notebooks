{
 "cells": [
  {
   "cell_type": "code",
   "execution_count": 1,
   "metadata": {},
   "outputs": [
    {
     "name": "stderr",
     "output_type": "stream",
     "text": [
      "24/06/23 20:53:56 WARN Utils: Your hostname, akshay-vm resolves to a loopback address: 127.0.1.1; using 10.0.2.15 instead (on interface enp0s3)\n",
      "24/06/23 20:53:56 WARN Utils: Set SPARK_LOCAL_IP if you need to bind to another address\n",
      "Setting default log level to \"WARN\".\n",
      "To adjust logging level use sc.setLogLevel(newLevel). For SparkR, use setLogLevel(newLevel).\n",
      "24/06/23 20:17:48 WARN NativeCodeLoader: Unable to load native-hadoop library for your platform... using builtin-java classes where applicable\n"
     ]
    }
   ],
   "source": [
    "import findspark\n",
    "findspark.init('/home/akshay/spark-3.5.1-bin-hadoop3')\n",
    "from pyspark.sql import SparkSession\n",
    "spark = SparkSession.builder.appName(\"spark_tutorials_1\").getOrCreate()"
   ]
  },
  {
   "cell_type": "markdown",
   "metadata": {},
   "source": [
    "### PySpark Sample Function Example\n",
    "\n",
    "PySpark is a powerful framework for large-scale data processing in Python. Here's a basic example of using PySpark to read data from a CSV file and perform a simple transformation:\n",
    "\n",
    "1. **Setup PySpark Context:**\n",
    "\n",
    "   ```python\n",
    "   from pyspark.sql import SparkSession\n",
    "\n",
    "   # Initialize SparkSession\n",
    "   spark = SparkSession.builder \\\n",
    "       .appName(\"PySpark Example\") \\\n",
    "       .getOrCreate()\n"
   ]
  },
  {
   "cell_type": "code",
   "execution_count": 2,
   "metadata": {},
   "outputs": [
    {
     "name": "stdout",
     "output_type": "stream",
     "text": [
      "+---+\n",
      "| id|\n",
      "+---+\n",
      "|  1|\n",
      "|  2|\n",
      "|  3|\n",
      "|  4|\n",
      "|  5|\n",
      "|  6|\n",
      "|  7|\n",
      "|  8|\n",
      "|  9|\n",
      "| 10|\n",
      "| 11|\n",
      "| 12|\n",
      "| 13|\n",
      "| 14|\n",
      "| 15|\n",
      "| 16|\n",
      "| 17|\n",
      "| 18|\n",
      "| 19|\n",
      "| 20|\n",
      "+---+\n",
      "only showing top 20 rows\n",
      "\n"
     ]
    }
   ],
   "source": [
    "df = spark.range(start=1, end=101)\n",
    "df.show()"
   ]
  },
  {
   "cell_type": "markdown",
   "metadata": {},
   "source": [
    "we can get a specific set as sample"
   ]
  },
  {
   "cell_type": "code",
   "execution_count": 3,
   "metadata": {},
   "outputs": [
    {
     "name": "stdout",
     "output_type": "stream",
     "text": [
      "Help on method sample in module pyspark.sql.dataframe:\n",
      "\n",
      "sample(withReplacement: Union[float, bool, NoneType] = None, fraction: Union[int, float, NoneType] = None, seed: Optional[int] = None) -> 'DataFrame' method of pyspark.sql.dataframe.DataFrame instance\n",
      "    Returns a sampled subset of this :class:`DataFrame`.\n",
      "    \n",
      "    .. versionadded:: 1.3.0\n",
      "    \n",
      "    .. versionchanged:: 3.4.0\n",
      "        Supports Spark Connect.\n",
      "    \n",
      "    Parameters\n",
      "    ----------\n",
      "    withReplacement : bool, optional\n",
      "        Sample with replacement or not (default ``False``).\n",
      "    fraction : float, optional\n",
      "        Fraction of rows to generate, range [0.0, 1.0].\n",
      "    seed : int, optional\n",
      "        Seed for sampling (default a random seed).\n",
      "    \n",
      "    Returns\n",
      "    -------\n",
      "    :class:`DataFrame`\n",
      "        Sampled rows from given DataFrame.\n",
      "    \n",
      "    Notes\n",
      "    -----\n",
      "    This is not guaranteed to provide exactly the fraction specified of the total\n",
      "    count of the given :class:`DataFrame`.\n",
      "    \n",
      "    `fraction` is required and, `withReplacement` and `seed` are optional.\n",
      "    \n",
      "    Examples\n",
      "    --------\n",
      "    >>> df = spark.range(10)\n",
      "    >>> df.sample(0.5, 3).count() # doctest: +SKIP\n",
      "    7\n",
      "    >>> df.sample(fraction=0.5, seed=3).count() # doctest: +SKIP\n",
      "    7\n",
      "    >>> df.sample(withReplacement=True, fraction=0.5, seed=3).count() # doctest: +SKIP\n",
      "    1\n",
      "    >>> df.sample(1.0).count()\n",
      "    10\n",
      "    >>> df.sample(fraction=1.0).count()\n",
      "    10\n",
      "    >>> df.sample(False, fraction=1.0).count()\n",
      "    10\n",
      "\n"
     ]
    }
   ],
   "source": [
    "help(df.sample)"
   ]
  },
  {
   "cell_type": "code",
   "execution_count": 4,
   "metadata": {},
   "outputs": [
    {
     "name": "stdout",
     "output_type": "stream",
     "text": [
      "+---+\n",
      "| id|\n",
      "+---+\n",
      "|  6|\n",
      "| 12|\n",
      "| 19|\n",
      "| 22|\n",
      "| 25|\n",
      "| 27|\n",
      "| 36|\n",
      "| 62|\n",
      "| 72|\n",
      "| 75|\n",
      "| 78|\n",
      "| 96|\n",
      "+---+\n",
      "\n",
      "==========================\n",
      "+---+\n",
      "| id|\n",
      "+---+\n",
      "|  5|\n",
      "| 19|\n",
      "| 29|\n",
      "| 33|\n",
      "| 38|\n",
      "| 68|\n",
      "| 84|\n",
      "| 95|\n",
      "| 96|\n",
      "| 99|\n",
      "|100|\n",
      "+---+\n",
      "\n"
     ]
    }
   ],
   "source": [
    "df1 = df.sample(fraction=0.1)\n",
    "df2 = df.sample(fraction=0.1)\n",
    "\n",
    "df1.show()\n",
    "print(\"==========================\")\n",
    "df2.show()"
   ]
  },
  {
   "cell_type": "markdown",
   "metadata": {},
   "source": [
    "if you want same value everytime then you need to use seed number"
   ]
  },
  {
   "cell_type": "code",
   "execution_count": 5,
   "metadata": {},
   "outputs": [
    {
     "name": "stdout",
     "output_type": "stream",
     "text": [
      "+---+\n",
      "| id|\n",
      "+---+\n",
      "| 45|\n",
      "| 61|\n",
      "| 65|\n",
      "| 66|\n",
      "| 67|\n",
      "| 77|\n",
      "| 80|\n",
      "| 84|\n",
      "| 94|\n",
      "|100|\n",
      "+---+\n",
      "\n",
      "==========================\n",
      "+---+\n",
      "| id|\n",
      "+---+\n",
      "| 45|\n",
      "| 61|\n",
      "| 65|\n",
      "| 66|\n",
      "| 67|\n",
      "| 77|\n",
      "| 80|\n",
      "| 84|\n",
      "| 94|\n",
      "|100|\n",
      "+---+\n",
      "\n"
     ]
    }
   ],
   "source": [
    "df1 = df.sample(fraction=0.1, seed=123)\n",
    "df2 = df.sample(fraction=0.1, seed=123)\n",
    "\n",
    "df1.show()\n",
    "print(\"==========================\")\n",
    "df2.show()"
   ]
  },
  {
   "cell_type": "markdown",
   "metadata": {},
   "source": [
    "this function is used when you have a big dataset and you want to perform a small test on small dataset"
   ]
  },
  {
   "cell_type": "code",
   "execution_count": null,
   "metadata": {},
   "outputs": [],
   "source": []
  }
 ],
 "metadata": {
  "kernelspec": {
   "display_name": "Python 3",
   "language": "python",
   "name": "python3"
  },
  "language_info": {
   "codemirror_mode": {
    "name": "ipython",
    "version": 3
   },
   "file_extension": ".py",
   "mimetype": "text/x-python",
   "name": "python",
   "nbconvert_exporter": "python",
   "pygments_lexer": "ipython3",
   "version": "3.10.12"
  }
 },
 "nbformat": 4,
 "nbformat_minor": 2
}
